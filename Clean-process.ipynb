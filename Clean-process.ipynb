{
 "cells": [
  {
   "cell_type": "markdown",
   "metadata": {},
   "source": [
    "# Stalker, startup due dilligence automation"
   ]
  },
  {
   "cell_type": "code",
   "execution_count": 259,
   "metadata": {},
   "outputs": [],
   "source": [
    "# Libraries\n",
    "import numpy as np\n",
    "import pandas as pd\n",
    "import requests\n",
    "import matplotlib.pyplot as plt\n",
    "import seaborn as sns\n",
    "import sqlalchemy as sql \n",
    "from IPython.display import Image, display\n",
    "# BeautifulSoup\n",
    "from bs4 import BeautifulSoup as bs\n",
    "from bs4.element import Comment\n",
    "import urllib.request\n",
    "from difflib import get_close_matches\n",
    "import json\n",
    "# Twitter sentiment analysis\n",
    "import tweepy\n",
    "from textblob import TextBlob\n",
    "# News API\n",
    "from newsapi import NewsApiClient\n",
    "# Web\n",
    "import webbrowser\n",
    "# Tldextract to get domain of url\n",
    "import tldextract as tld\n",
    "# NLTK to analyze webs\n",
    "import nltk\n",
    "from nltk.corpus import stopwords\n",
    "from nltk.tokenize import word_tokenize\n",
    "# Google search\n",
    "from googlesearch import search"
   ]
  },
  {
   "cell_type": "code",
   "execution_count": 127,
   "metadata": {},
   "outputs": [],
   "source": [
    "newsapi = NewsApiClient(api_key='f4b7461debe141aaa97906aaa15774e0')"
   ]
  },
  {
   "cell_type": "code",
   "execution_count": 97,
   "metadata": {},
   "outputs": [],
   "source": [
    "news_sources = 'the-verge,buzzfeed,engadget,hacker-news,mashable,reddit-r-all,wired,techcrunch'"
   ]
  },
  {
   "cell_type": "code",
   "execution_count": 98,
   "metadata": {},
   "outputs": [],
   "source": [
    "# Twitter API\n",
    "consumer_key = 'z7JowVKfk7O7e91kqcAXTHvWm'\n",
    "consumer_key_secret = '8KkTo5G3NhaX2gLIF3MMIl5Kb2U3N21kBrmb7pAEIMXBLRHDjo'\n",
    "access_token = '266094721-7wiXyVFTvA5Zdsj5sNFiR5w2wokjROsT2bNrkb2w'\n",
    "access_token_secret = 'huhhS6OCprQpyz6KDm5CQbXvymERJNP6wesztk0cmfn7m'"
   ]
  },
  {
   "cell_type": "code",
   "execution_count": 99,
   "metadata": {},
   "outputs": [],
   "source": [
    "# News Api\n",
    "newsapi = NewsApiClient(api_key='f4b7461debe141aaa97906aaa15774e0')\n",
    "news_sources = 'the-verge,buzzfeed,engadget,hacker-news,mashable,reddit-r-all,wired,techcrunch'\n",
    "\n",
    "# Twitter API\n",
    "consumer_key = 'z7JowVKfk7O7e91kqcAXTHvWm'\n",
    "consumer_key_secret = '8KkTo5G3NhaX2gLIF3MMIl5Kb2U3N21kBrmb7pAEIMXBLRHDjo'\n",
    "access_token = '266094721-7wiXyVFTvA5Zdsj5sNFiR5w2wokjROsT2bNrkb2w'\n",
    "access_token_secret = 'huhhS6OCprQpyz6KDm5CQbXvymERJNP6wesztk0cmfn7m'\n",
    "\n",
    "auth = tweepy.OAuthHandler(consumer_key, consumer_key_secret)\n",
    "auth.set_access_token(access_token, access_token_secret)\n",
    "api = tweepy.API(auth)"
   ]
  },
  {
   "cell_type": "code",
   "execution_count": 100,
   "metadata": {},
   "outputs": [],
   "source": [
    "# Connect to database\n",
    "from sqlalchemy import create_engine\n",
    "driver = 'mysql+pymysql:'\n",
    "user = 'alvaro'\n",
    "password = 'stalvaro19962013'\n",
    "ip = '35.246.28.129'\n",
    "database = 'data_crunch'\n",
    "connection_string = f'{driver}//{user}:{password}@{ip}/{database}?charset=utf8'\n",
    "engine = create_engine(connection_string)"
   ]
  },
  {
   "cell_type": "code",
   "execution_count": 101,
   "metadata": {},
   "outputs": [],
   "source": [
    "# Get data from database\n",
    "companies = pd.read_sql_table(table_name='companies15', con=connection_string)\n",
    "investments = pd.read_sql_table(table_name='investments15', con=connection_string)\n",
    "people = pd.read_sql_table(table_name='people', con=connection_string)\n",
    "rounds = pd.read_sql_table(table_name='rounds15', con=connection_string)"
   ]
  },
  {
   "cell_type": "code",
   "execution_count": 102,
   "metadata": {},
   "outputs": [],
   "source": [
    "investments = investments.dropna(subset=['raised_amount_usd', 'company_category_list'])\n",
    "sector_list0 = []\n",
    "sector_list = []\n",
    "for item in investments['company_category_list']:\n",
    "    if ',' in item:\n",
    "        sector_list0.append(item.split(sep=', '))\n",
    "    else:\n",
    "        sector_list0.append(item)\n",
    "for i in sector_list0:\n",
    "    if type(i) == list:\n",
    "        for sec in i:\n",
    "            sector_list.append(sec)\n",
    "\n",
    "    else:\n",
    "        sector_list.append(i)"
   ]
  },
  {
   "cell_type": "code",
   "execution_count": 129,
   "metadata": {},
   "outputs": [],
   "source": [
    "companies_list = []\n",
    "for i in companies.dropna(subset=['name']).name:\n",
    "    companies_list.append(i)"
   ]
  },
  {
   "cell_type": "markdown",
   "metadata": {},
   "source": [
    "## Google search"
   ]
  },
  {
   "cell_type": "code",
   "execution_count": 311,
   "metadata": {},
   "outputs": [],
   "source": [
    "# Finding related urls\n",
    "urls = []\n",
    "def find_webs(query):\n",
    "    rrss = ['facebook', 'twitter', 'linkedin', 'instagram', 'youtube','pinterest','angel']\n",
    "    sites = []\n",
    "    red_social = False\n",
    "    for s in search(query, tld=\"com\", num=30, stop=30, pause=3, lang='en'):\n",
    "\n",
    "        if len(urls)<10:\n",
    "            for rs in rrss:\n",
    "                if rs in s or tld.extract(s).domain in sites:\n",
    "                    red_social = True\n",
    "            if not red_social and s not in urls:\n",
    "                urls.append(s)\n",
    "                sites.append(tld.extract(s).domain)\n",
    "\n",
    "            red_social = False"
   ]
  },
  {
   "cell_type": "code",
   "execution_count": 271,
   "metadata": {},
   "outputs": [],
   "source": [
    "def tag_visible(element):\n",
    "    if element.parent.name in ['style', 'script', 'head', 'title', 'meta', '[document]']:\n",
    "        return False\n",
    "    if isinstance(element, Comment):\n",
    "        return False\n",
    "    return True\n",
    "\n",
    "\n",
    "def text_from_html(body):\n",
    "    soup = bs(body, 'html.parser')\n",
    "    texts = soup.findAll(text=True)\n",
    "    visible_texts = filter(tag_visible, texts)  \n",
    "    return u\" \".join(t.strip() for t in visible_texts)"
   ]
  },
  {
   "cell_type": "code",
   "execution_count": 274,
   "metadata": {},
   "outputs": [],
   "source": [
    "def finding_nemo():\n",
    "    # Define words that trigger a warning\n",
    "    warning_word = ['lie', 'fraud', 'scam', 'extortion', 'deceit', 'crime','arson', 'assault', 'bigamy', 'blackmail',\n",
    "                'bribery', 'burglary', 'child abuse', 'conspiracy', 'espionage', 'forgery', 'fraud', 'genocide', \n",
    "                'hijacking','homicide', 'kidnapping', 'manslaughter', 'mugging', 'murder', 'perjury', 'rape', 'riot',\n",
    "                'robbery', 'shoplifting', 'slander', 'smuggling', 'treason', 'trespassing']\n",
    "    # URLs with a warning\n",
    "    black_urls = []\n",
    "    # Find \n",
    "    for i in urls:\n",
    "        try:\n",
    "            html = text_from_html(urllib.request.urlopen(i).read())\n",
    "            stop_words = set(stopwords.words('english')) \n",
    "            word_tokens = word_tokenize(html)\n",
    "            filtered_sentence = [w for w in word_tokens if not w in stop_words]\n",
    "\n",
    "            for warning in warning_word:\n",
    "                if warning in filtered_sentence and i not in black_urls:\n",
    "                    black_urls.append(i)\n",
    "                    print(f'We found something sketchy. You might want to check this link: {i}\\n')\n",
    "        except:\n",
    "            print(f'{i} ha fallado\\n')\n"
   ]
  },
  {
   "cell_type": "markdown",
   "metadata": {},
   "source": [
    "## Getting info about the company from the user"
   ]
  },
  {
   "cell_type": "code",
   "execution_count": 105,
   "metadata": {},
   "outputs": [],
   "source": [
    "def retrieve_name(my_name):\n",
    "    \n",
    "    if my_name in companies_list:\n",
    "        return my_name\n",
    "    elif len(get_close_matches(my_name, companies_list)) > 0:\n",
    "        action = input(\"Did you mean %s instead? [y or n]: \" % get_close_matches(my_name, companies_list)[0])\n",
    "        if (action == \"y\"):\n",
    "            return get_close_matches(my_name, companies_list)[0]\n",
    "        elif (action == \"n\"):\n",
    "            return my_name\n",
    "        else:\n",
    "            return(\"we don't understand you. Apologies.\")"
   ]
  },
  {
   "cell_type": "code",
   "execution_count": 307,
   "metadata": {},
   "outputs": [
    {
     "name": "stdout",
     "output_type": "stream",
     "text": [
      "Name of the company: Aple\n",
      "Did you mean Apple instead? [y or n]: y\n"
     ]
    }
   ],
   "source": [
    "name0 = input('Name of the company: ')\n",
    "name = retrieve_name(name0)"
   ]
  },
  {
   "cell_type": "code",
   "execution_count": 83,
   "metadata": {},
   "outputs": [],
   "source": [
    "def retrieve_sector(my_sector):\n",
    "    \n",
    "    if my_sector in sector_list:\n",
    "        return my_sector\n",
    "    elif len(get_close_matches(my_sector, sector_list)) > 0:\n",
    "        action = input(\"Did you mean %s instead? [y or n]: \" % get_close_matches(my_sector, sector_list) [0])\n",
    "        if (action == \"y\"):\n",
    "            return get_close_matches(my_sector, sector_list)[0]\n",
    "        else:\n",
    "            return my_sector"
   ]
  },
  {
   "cell_type": "code",
   "execution_count": 34,
   "metadata": {},
   "outputs": [
    {
     "name": "stdout",
     "output_type": "stream",
     "text": [
      "In what sector is this company working?: Biotechnology\n"
     ]
    }
   ],
   "source": [
    "sector0 = input('In what sector is this company working?: ')\n",
    "sector = retrieve_sector(sector0)"
   ]
  },
  {
   "cell_type": "code",
   "execution_count": 35,
   "metadata": {},
   "outputs": [
    {
     "name": "stdout",
     "output_type": "stream",
     "text": [
      "What is the name of the founder?: Elizabeth Holmes\n"
     ]
    }
   ],
   "source": [
    "founder = input('What is the name of the founder?: ')"
   ]
  },
  {
   "cell_type": "markdown",
   "metadata": {},
   "source": [
    "## Looking for info in Crunchbase"
   ]
  },
  {
   "cell_type": "code",
   "execution_count": 304,
   "metadata": {},
   "outputs": [],
   "source": [
    "# Sentiment analysis tweeter\n",
    "def tw_sent_sector(public_tweets):    \n",
    "    sentiment_list = []\n",
    "    for tweet in public_tweets:\n",
    "        analysis = TextBlob(tweet.text)\n",
    "        sentiment_list.append(analysis.sentiment[0])\n",
    "    if sum(sentiment_list)>0:\n",
    "         sent = 'Positive'\n",
    "    elif sum(sentiment_list)<0:\n",
    "        sent = 'Negative'\n",
    "    else:\n",
    "        sent = 'Neutral'\n",
    "    print(f\"The sentiment about {sector} industry in Twitter is {sent}\")"
   ]
  },
  {
   "cell_type": "code",
   "execution_count": 303,
   "metadata": {},
   "outputs": [],
   "source": [
    "# Sentiment analysis news\n",
    "def news_sentiment_sector(public_news):\n",
    "    news_list = []\n",
    "    for piece in range(len(public_news['articles'])):\n",
    "        news_list.append(TextBlob(public_news['articles'][piece]['title']).sentiment[0])\n",
    "        news_list.append(TextBlob(public_news['articles'][piece]['description']).sentiment[0]) \n",
    "    if sum(news_list)>0:\n",
    "        news_sent = 'Positive'\n",
    "    elif sum(news_list)<0:\n",
    "        news_sent = 'Negative'\n",
    "    else:\n",
    "        news_sent = 'Neutral'\n",
    "    print(f\"There have been {len(public_news)} news pieces about {sector} industry recently and are in general {news_sent}\")"
   ]
  },
  {
   "cell_type": "code",
   "execution_count": 123,
   "metadata": {
    "code_folding": []
   },
   "outputs": [],
   "source": [
    "def category(sector):\n",
    "    # Gather tweets\n",
    "    public_tweets = api.search(sector)\n",
    "    \n",
    "    # Gather news\n",
    "    public_news = newsapi.get_everything(q=sector,sources=news_sources,language='en')\n",
    "    \n",
    "    # Prepare the data for the sector\n",
    "    sector_investments = investments[investments['company_category_list'].str.contains(sector)].drop('index',axis=1)\n",
    "    sector_investments.reset_index(drop=True)\n",
    "    sector_investments['funded_at'] = pd.to_datetime(sector_investments['funded_at'])\n",
    "    sector_investments['Year'] = sector_investments['funded_at'].apply(lambda x: x.year )\n",
    "    sector_investments['Month'] = sector_investments['funded_at'].apply(lambda x: x.month )\n",
    "    sector_investments['Day'] = sector_investments['funded_at'].apply(lambda x: x.day )\n",
    "    \n",
    "    # Sentiment analysis Twitter\n",
    "    tw_sent_sector(public_tweets):    \n",
    "    \n",
    "    # Sentiment analysis News\n",
    "    news_sentiment_sector(public_news)\n",
    "    \n",
    "    # create plot\n",
    "    sector_year = sector_investments.groupby(['Year']).sum()[-10:]\n",
    "    movement = ((sector_year.raised_amount_usd.iloc[len(sector_year)-1] - sector_year.raised_amount_usd.iloc[0])/sector_year.raised_amount_usd.iloc[0]*100)\n",
    "    if sector_year.raised_amount_usd.iloc[0] + sector_year.raised_amount_usd.iloc[len(sector_year)-1] >= 0:\n",
    "        in_dec = 'increased'\n",
    "        grow = 'growing'\n",
    "    else:\n",
    "        in_dec = 'decreased'\n",
    "        grow = 'falling'\n",
    "        movement = movement[1:]\n",
    "    sns.lineplot(x=sector_year.index, y=sector_year.raised_amount_usd).set_title(f'Evolution of the amount invested in {sector}')\n",
    "    peak_year =  sector_year.index[sector_year['raised_amount_usd']== max(sector_year.raised_amount_usd)].to_list()\n",
    "    peak_amount = max(sector_year.raised_amount_usd)\n",
    "    low_amount = min(sector_year.raised_amount_usd)\n",
    "    low_year = sector_year.index[sector_year['raised_amount_usd']== min(sector_year.raised_amount_usd)].to_list()\n",
    "    format_doll = ',.2f'\n",
    "    print(f\"\"\"The amount of money invested in {sector} companies has {in_dec} by {format(abs(movement),format_doll)}% in the last {len(sector_year)} years, \n",
    "it is expected to keep {grow} by X the next  X years. \n",
    "It peaked in year {peak_year} with ${format(peak_amount,format_doll )} invested and its lowest point was in year {low_year} with ${format(low_amount,format_doll)} invested.\"\"\")\n",
    "    plt.ylabel('Raised amount in USD')\n",
    "    plt.show()\n",
    "    investments_per_year = sector_investments.groupby(['Year']).count()\n",
    "    sns.lineplot(x=investments_per_year.index[-10:], y=investments_per_year.Day[-10:]).set_title(f'Evolution of the number of investment in {sector}')\n",
    "    plt.ylabel('Number of investments')\n",
    "    print(\"\"\"Plot explanaition average investment\n",
    "    \n",
    "    \"\"\")\n",
    "    plt.show()"
   ]
  },
  {
   "cell_type": "code",
   "execution_count": 128,
   "metadata": {},
   "outputs": [
    {
     "name": "stdout",
     "output_type": "stream",
     "text": [
      "The sentiment about Biotechnology industry in Twitter is Positive\n",
      "There have been 3 news pieces about Biotechnology industry recently and are in general Positive\n",
      "The amount of money invested in Biotechnology companies has increased by 203.11% in the last 10 years, \n",
      "it is expected to keep growing by X the next  X years. \n",
      "It peaked in year [2015] with $48,271,810,280.06 invested and its lowest point was in year [2006] with $15,925,340,476.99 invested.\n"
     ]
    },
    {
     "data": {
      "image/png": "[encoded data removed]",
      "text/plain": [
       "<Figure size 432x288 with 1 Axes>"
      ]
     },
     "metadata": {
      "needs_background": "light"
     },
     "output_type": "display_data"
    },
    {
     "name": "stdout",
     "output_type": "stream",
     "text": [
      "Plot explanaition average investment\n",
      "    \n",
      "    \n"
     ]
    },
    {
     "data": {
      "image/png": "[encoded data removed]",
      "text/plain": [
       "<Figure size 432x288 with 1 Axes>"
      ]
     },
     "metadata": {
      "needs_background": "light"
     },
     "output_type": "display_data"
    }
   ],
   "source": [
    "category(sector)"
   ]
  },
  {
   "cell_type": "code",
   "execution_count": 300,
   "metadata": {},
   "outputs": [],
   "source": [
    " # Sentiment analysis\n",
    "def tw_analysis_founder(public_tweets):\n",
    "    sentiment_list = []\n",
    "    for tweet in public_tweets:\n",
    "        analysis = TextBlob(tweet.text)\n",
    "        sentiment_list.append(analysis.sentiment[0])\n",
    "    if sum(sentiment_list)>0:\n",
    "         sent = 'Positive'\n",
    "    elif sum(sentiment_list)<0:\n",
    "        sent = 'Negative'\n",
    "    else:\n",
    "        sent = 'Neutral'\n",
    "    print(f\"The sentiment about {founder} in Twitter is {sent}\")\n",
    "            "
   ]
  },
  {
   "cell_type": "code",
   "execution_count": 298,
   "metadata": {},
   "outputs": [],
   "source": [
    "def founders(founder):\n",
    "    full_name = founder.split()\n",
    "    public_tweets = api.search(founder)\n",
    "    for i in range(len(people)):\n",
    "        if people.first_name.iloc[i] == full_name[0] and people.last_name.iloc[i]==full_name[1]:\n",
    "            display(Image(url=people.profile_image_url[i]))\n",
    "            print(f'We found this information about {founder}:')\n",
    "            print(f\"Founder's name: {people.first_name[i]} {people.last_name[i]} \")\n",
    "            print(f\"Title: {people.title[i]}\")\n",
    "            print(f\"Organization: {people.organization[i]}\")\n",
    "            print(f\"Location: {people.location_city[i]}, {people.location_region[i]}, {people.location_country_code[i]}\")\n",
    "            if people.twitter_url[i] != None:\n",
    "                print(f\"Twitter URL: {people.twitter_url[i]}\")\n",
    "            if people.linkedin_url[i] != None:\n",
    "                print(f\"Linkedin URL: {people.linkedin_url[i]}\")\n",
    "            if people.facebook_url[i] != None:\n",
    "                print(f\"Facebook URL: {people.facebook_url[i]}\")\n",
    "    # Twitter analysis\n",
    "    tw_analysis_founder(public_tweets)\n",
    "    "
   ]
  },
  {
   "cell_type": "code",
   "execution_count": 299,
   "metadata": {},
   "outputs": [
    {
     "data": {
      "text/html": [
       "<img src=\"https://crunchbase-production-res.cloudinary.com/image/upload/c_lpad,h_120,w_120,f_jpg/hww9ubgw36fbtkuvsiir\"/>"
      ],
      "text/plain": [
       "<IPython.core.display.Image object>"
      ]
     },
     "metadata": {},
     "output_type": "display_data"
    },
    {
     "name": "stdout",
     "output_type": "stream",
     "text": [
      "We found this information about Elizabeth Holmes:\n",
      "Founder's name: Elizabeth Holmes \n",
      "Title: Founder and CEO at Theranos\n",
      "Organization: Theranos\n",
      "Location: Palo Alto, California, US\n",
      "Twitter URL: https://twitter.com/eholmes2003\n",
      "Facebook URL: https://www.facebook.com/elizabeth.holmes.16121471\n",
      "The sentiment about Elizabeth Holmes in Twitter is Positive\n"
     ]
    }
   ],
   "source": [
    "founders(founder)"
   ]
  },
  {
   "cell_type": "code",
   "execution_count": 52,
   "metadata": {},
   "outputs": [],
   "source": [
    "def startup(name):\n",
    "    company = companies[companies['name'] == name]\n",
    "    #display(Image(url=company.profile_image_url))\n",
    "    print(f\"Company name: {company.name.item()}\")\n",
    "    print(f\"Total money raised: ${round(company.funding_total_usd.item(),2)}\")\n",
    "    print(f\"Total rounds: {company.funding_rounds.item()}\")\n",
    "    print(f\"Status: {company['status'].item()})"
   ]
  },
  {
   "cell_type": "code",
   "execution_count": 53,
   "metadata": {},
   "outputs": [
    {
     "name": "stdout",
     "output_type": "stream",
     "text": [
      "Company name: Theranos\n",
      "Total money raised: $88400000.0\n",
      "Total rounds: 5\n",
      "Status: operating\n"
     ]
    }
   ],
   "source": [
    "startup(name)"
   ]
  },
  {
   "cell_type": "code",
   "execution_count": 43,
   "metadata": {},
   "outputs": [
    {
     "data": {
      "text/html": [
       "<div>\n",
       "<style scoped>\n",
       "    .dataframe tbody tr th:only-of-type {\n",
       "        vertical-align: middle;\n",
       "    }\n",
       "\n",
       "    .dataframe tbody tr th {\n",
       "        vertical-align: top;\n",
       "    }\n",
       "\n",
       "    .dataframe thead th {\n",
       "        text-align: right;\n",
       "    }\n",
       "</style>\n",
       "<table border=\"1\" class=\"dataframe\">\n",
       "  <thead>\n",
       "    <tr style=\"text-align: right;\">\n",
       "      <th></th>\n",
       "      <th>index</th>\n",
       "      <th>permalink</th>\n",
       "      <th>name</th>\n",
       "      <th>homepage_url</th>\n",
       "      <th>category_list</th>\n",
       "      <th>funding_total_usd</th>\n",
       "      <th>status</th>\n",
       "      <th>country_code</th>\n",
       "      <th>state_code</th>\n",
       "      <th>region</th>\n",
       "      <th>city</th>\n",
       "      <th>funding_rounds</th>\n",
       "      <th>founded_at</th>\n",
       "      <th>first_funding_at</th>\n",
       "      <th>last_funding_at</th>\n",
       "    </tr>\n",
       "  </thead>\n",
       "  <tbody>\n",
       "    <tr>\n",
       "      <th>57800</th>\n",
       "      <td>57800</td>\n",
       "      <td>/organization/theranos</td>\n",
       "      <td>Theranos</td>\n",
       "      <td>http://www.theranos.com</td>\n",
       "      <td>Biotechnology|Health Care|Health Diagnostics</td>\n",
       "      <td>88400000.0</td>\n",
       "      <td>operating</td>\n",
       "      <td>None</td>\n",
       "      <td>None</td>\n",
       "      <td>None</td>\n",
       "      <td>None</td>\n",
       "      <td>5</td>\n",
       "      <td>2003-01-01</td>\n",
       "      <td>2005-02-11</td>\n",
       "      <td>2014-06-12</td>\n",
       "    </tr>\n",
       "  </tbody>\n",
       "</table>\n",
       "</div>"
      ],
      "text/plain": [
       "       index               permalink      name             homepage_url  \\\n",
       "57800  57800  /organization/theranos  Theranos  http://www.theranos.com   \n",
       "\n",
       "                                      category_list  funding_total_usd  \\\n",
       "57800  Biotechnology|Health Care|Health Diagnostics         88400000.0   \n",
       "\n",
       "          status country_code state_code region  city  funding_rounds  \\\n",
       "57800  operating         None       None   None  None               5   \n",
       "\n",
       "       founded_at first_funding_at last_funding_at  \n",
       "57800  2003-01-01       2005-02-11      2014-06-12  "
      ]
     },
     "execution_count": 43,
     "metadata": {},
     "output_type": "execute_result"
    }
   ],
   "source": [
    "companies[companies['name']=='Theranos']"
   ]
  },
  {
   "cell_type": "code",
   "execution_count": 218,
   "metadata": {},
   "outputs": [],
   "source": []
  },
  {
   "cell_type": "code",
   "execution_count": 278,
   "metadata": {},
   "outputs": [],
   "source": []
  },
  {
   "cell_type": "code",
   "execution_count": 312,
   "metadata": {},
   "outputs": [],
   "source": [
    "find_webs('Tim Cook')"
   ]
  },
  {
   "cell_type": "code",
   "execution_count": 313,
   "metadata": {},
   "outputs": [
    {
     "name": "stdout",
     "output_type": "stream",
     "text": [
      "We found something sketchy. You might want to check this link: https://9to5mac.com/2019/04/17/apple-lawsuit-securities-fraud/\n",
      "\n",
      "We found something sketchy. You might want to check this link: https://www.macrumors.com/roundup/tim-cook/\n",
      "\n"
     ]
    }
   ],
   "source": [
    "finding_nemo()"
   ]
  },
  {
   "cell_type": "markdown",
   "metadata": {},
   "source": [
    "### To improve\n",
    "> Message if cannot find info\n",
    "\n",
    "> Suggestions (Difflib) (founder)\n",
    "\n",
    "> Twitter feed with stats\n",
    "\n",
    "> Google Search with warning analysis select only most relevant links \n",
    "\n",
    "> Similar companies\n"
   ]
  },
  {
   "cell_type": "code",
   "execution_count": 281,
   "metadata": {},
   "outputs": [
    {
     "data": {
      "text/plain": [
       "['https://www.geni.com/people/%C3%81lvaro-Fragoso-de-Albuquerque-Capit%C3%A3o-Mor/6000000026090618755',\n",
       " 'https://www.vivareal.com.br/aluguel/sp/sao-paulo/zona-sul/vila-carioca/rua-alvaro-fragoso/galpao_comercial/',\n",
       " 'http://brasilhis.usal.es/en/personaje/alvaro-fragoso',\n",
       " 'https://www.spokeo.com/Alvaro-Fragoso/Arizona',\n",
       " 'https://gw.geneanet.org/gilenob?lang=en&p=alvaro&n=fragoso',\n",
       " 'https://www.producthunt.com/@alvaro_fragoso_carreras/subscribed_upcoming',\n",
       " 'https://www.mylife.com/alvaro-fragoso/e231003936636',\n",
       " 'https://clustrmaps.com/person/Fragoso-2ep9ls',\n",
       " 'https://run.unl.pt/handle/10362/19495',\n",
       " 'https://moovitapp.com/index/en/public_transit-Rua_%C3%81lvaro_Fragoso-Sao_Paulo-street_13146790-242']"
      ]
     },
     "execution_count": 281,
     "metadata": {},
     "output_type": "execute_result"
    }
   ],
   "source": [
    "urls"
   ]
  },
  {
   "cell_type": "code",
   "execution_count": null,
   "metadata": {},
   "outputs": [],
   "source": []
  }
 ],
 "metadata": {
  "kernelspec": {
   "display_name": "Python 3",
   "language": "python",
   "name": "python3"
  },
  "language_info": {
   "codemirror_mode": {
    "name": "ipython",
    "version": 3
   },
   "file_extension": ".py",
   "mimetype": "text/x-python",
   "name": "python",
   "nbconvert_exporter": "python",
   "pygments_lexer": "ipython3",
   "version": "3.7.2"
  }
 },
 "nbformat": 4,
 "nbformat_minor": 2
}
