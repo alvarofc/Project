{
 "cells": [
  {
   "cell_type": "markdown",
   "metadata": {},
   "source": [
    "# Stalker, startup due dilligence automation"
   ]
  },
  {
   "cell_type": "code",
   "execution_count": 1,
   "metadata": {},
   "outputs": [],
   "source": [
    "# Libraries\n",
    "import numpy as np\n",
    "import pandas as pd\n",
    "import matplotlib.pyplot as plt\n",
    "import seaborn as sns\n",
    "from sqlalchemy import create_engine\n",
    "from IPython.display import Image, display\n",
    "# BeautifulSoup\n",
    "from bs4 import BeautifulSoup as bs\n",
    "from bs4.element import Comment\n",
    "import urllib.request\n",
    "from difflib import get_close_matches\n",
    "import json\n",
    "# Twitter sentiment analysis\n",
    "import tweepy\n",
    "from textblob import TextBlob\n",
    "# News API\n",
    "from newsapi import NewsApiClient\n",
    "\n",
    "# NLTK to analyze webs\n",
    "import nltk\n",
    "from nltk.corpus import stopwords\n",
    "from nltk import FreqDist\n",
    "from nltk.tokenize import word_tokenize\n",
    "import stlib as st\n",
    "# Credentials\n",
    "import credentials as cd"
   ]
  },
  {
   "cell_type": "code",
   "execution_count": 2,
   "metadata": {},
   "outputs": [],
   "source": [
    "# Connect to database\n",
    "\n",
    "driver = cd.database['driver']\n",
    "user = cd.database['user']\n",
    "password = cd.database['password']\n",
    "ip = cd.database['ip']\n",
    "database = cd.database['database']\n",
    "connection_string = f'{driver}//{user}:{password}@{ip}/{database}?charset=utf8'\n",
    "engine = create_engine(connection_string)"
   ]
  },
  {
   "cell_type": "code",
   "execution_count": 3,
   "metadata": {},
   "outputs": [],
   "source": [
    "# Get data from database\n",
    "#companies = pd.read_sql_table(table_name='companies15', con=connection_string)\n",
    "#investments = pd.read_sql_table(table_name='investments15', con=connection_string)\n",
    "people = pd.read_sql_table(table_name='people', con=connection_string)\n",
    "#rounds = pd.read_sql_table(table_name='rounds15', con=connection_string)"
   ]
  },
  {
   "cell_type": "code",
   "execution_count": 8,
   "metadata": {},
   "outputs": [],
   "source": [
    "\n",
    "investments = investments.dropna(subset=['raised_amount_usd', 'company_category_list'])\n",
    "sector_list0 = []\n",
    "sector_list = []\n",
    "for item in investments['company_category_list']:\n",
    "    if ',' in item:\n",
    "        sector_list0.append(item.split(sep=', '))\n",
    "    else:\n",
    "        sector_list0.append(item)\n",
    "for i in sector_list0:\n",
    "    if type(i) == list:\n",
    "        for sec in i:\n",
    "            sector_list.append(sec)\n",
    "\n",
    "    else:\n",
    "        sector_list.append(i)"
   ]
  },
  {
   "cell_type": "code",
   "execution_count": 11,
   "metadata": {},
   "outputs": [],
   "source": [
    "founder_list = []\n",
    "name = people.dropna(subset=['first_name']).first_name\n",
    "surname = people.dropna(subset=['last_name']).last_name\n",
    "for i in range(len(people.dropna(subset=['first_name']).first_name)):\n",
    "    founder_list.append([name[i], surname[i]])"
   ]
  },
  {
   "cell_type": "markdown",
   "metadata": {},
   "source": [
    "## Google search"
   ]
  },
  {
   "cell_type": "code",
   "execution_count": 4,
   "metadata": {},
   "outputs": [
    {
     "name": "stdout",
     "output_type": "stream",
     "text": [
      "\n",
      "        We found something sketchy. You might want to check these links:\n",
      "        \n",
      "            - https://en.wikipedia.org/wiki/Theranos\n",
      "            \n",
      "            - https://www.businessinsider.com/theranos-founder-ceo-elizabeth-holmes-life-story-bio-2018-4\n",
      "        \n"
     ]
    }
   ],
   "source": [
    "st.most_warnings(st.find_webs('Theranos'))"
   ]
  },
  {
   "cell_type": "markdown",
   "metadata": {},
   "source": [
    "## Getting info about the company from the user"
   ]
  },
  {
   "cell_type": "code",
   "execution_count": 7,
   "metadata": {},
   "outputs": [
    {
     "name": "stdout",
     "output_type": "stream",
     "text": [
      "Name of the company: Aple\n",
      "Did you mean Apple instead? [y or n]: y\n"
     ]
    }
   ],
   "source": [
    "name0 = input('Name of the company: ')\n",
    "name = st.retrieve_name(name0, companies)"
   ]
  },
  {
   "cell_type": "code",
   "execution_count": 4,
   "metadata": {},
   "outputs": [
    {
     "name": "stdout",
     "output_type": "stream",
     "text": [
      "In what sector is this company working?: Computers\n"
     ]
    }
   ],
   "source": [
    "sector0 = input('In what sector is this company working?: ')\n",
    "sector = st.retrieve_sector(sector0, investments)"
   ]
  },
  {
   "cell_type": "code",
   "execution_count": 21,
   "metadata": {},
   "outputs": [],
   "source": [
    "def retrieve_founder(my_founder):\n",
    "    \n",
    "    if my_founder in founder_list:\n",
    "        return my_founder\n",
    "    elif len(get_close_matches(my_founder, founder_list)) > 0:\n",
    "        action = input(\"Did you mean %s instead? [y or n]: \" % get_close_matches(my_sector, sector_list) [0])\n",
    "        if (action == \"y\"):\n",
    "            return get_close_matches(my_founder, founder_list)[0]\n",
    "        else:\n",
    "            return my_founder"
   ]
  },
  {
   "cell_type": "code",
   "execution_count": 4,
   "metadata": {},
   "outputs": [
    {
     "name": "stdout",
     "output_type": "stream",
     "text": [
      "What is the name of the founder?: Tim Cook\n"
     ]
    }
   ],
   "source": [
    "founder = input('What is the name of the founder?: ')"
   ]
  },
  {
   "cell_type": "markdown",
   "metadata": {},
   "source": [
    "## Looking for info in Crunchbase"
   ]
  },
  {
   "cell_type": "code",
   "execution_count": 5,
   "metadata": {},
   "outputs": [
    {
     "name": "stdout",
     "output_type": "stream",
     "text": [
      "The sentiment about Computers industry in Twitter is Negative\n",
      "There have been 3 news pieces about Computers industry recently and are in general Positive\n",
      "The amount of money invested in Computers companies has increased by 13.89% in the last 10 years, \n",
      "it is expected to keep growing by X the next  X years. \n",
      "It peaked in year [2006] with $633,710,705.00 invested and its lowest point was in year [2012] with $99,438,589.00 invested.\n"
     ]
    },
    {
     "ename": "NameError",
     "evalue": "name 'plt' is not defined",
     "output_type": "error",
     "traceback": [
      "\u001b[0;31m---------------------------------------------------------------------------\u001b[0m",
      "\u001b[0;31mNameError\u001b[0m                                 Traceback (most recent call last)",
      "\u001b[0;32m<ipython-input-5-923ce92100b9>\u001b[0m in \u001b[0;36m<module>\u001b[0;34m\u001b[0m\n\u001b[0;32m----> 1\u001b[0;31m \u001b[0mst\u001b[0m\u001b[0;34m.\u001b[0m\u001b[0mcategory\u001b[0m\u001b[0;34m(\u001b[0m\u001b[0msector\u001b[0m\u001b[0;34m,\u001b[0m \u001b[0minvestments\u001b[0m\u001b[0;34m)\u001b[0m\u001b[0;34m\u001b[0m\u001b[0;34m\u001b[0m\u001b[0m\n\u001b[0m",
      "\u001b[0;32m~/Project/stlib.py\u001b[0m in \u001b[0;36mcategory\u001b[0;34m(sector, investments)\u001b[0m\n\u001b[1;32m    235\u001b[0m \u001b[0mit\u001b[0m \u001b[0;32mis\u001b[0m \u001b[0mexpected\u001b[0m \u001b[0mto\u001b[0m \u001b[0mkeep\u001b[0m \u001b[0;34m{\u001b[0m\u001b[0mgrow\u001b[0m\u001b[0;34m}\u001b[0m \u001b[0mby\u001b[0m \u001b[0mX\u001b[0m \u001b[0mthe\u001b[0m \u001b[0mnext\u001b[0m  \u001b[0mX\u001b[0m \u001b[0myears\u001b[0m\u001b[0;34m.\u001b[0m\u001b[0;34m\u001b[0m\u001b[0;34m\u001b[0m\u001b[0m\n\u001b[1;32m    236\u001b[0m It peaked in year {peak_year} with ${format(peak_amount,format_doll)} invested and its lowest point was in year {low_year} with ${format(low_amount,format_doll)} invested.\"\"\")\n\u001b[0;32m--> 237\u001b[0;31m     \u001b[0mplt\u001b[0m\u001b[0;34m.\u001b[0m\u001b[0mylabel\u001b[0m\u001b[0;34m(\u001b[0m\u001b[0;34m'Raised amount in USD'\u001b[0m\u001b[0;34m)\u001b[0m\u001b[0;34m\u001b[0m\u001b[0;34m\u001b[0m\u001b[0m\n\u001b[0m\u001b[1;32m    238\u001b[0m     \u001b[0mplt\u001b[0m\u001b[0;34m.\u001b[0m\u001b[0mshow\u001b[0m\u001b[0;34m(\u001b[0m\u001b[0;34m)\u001b[0m\u001b[0;34m\u001b[0m\u001b[0;34m\u001b[0m\u001b[0m\n\u001b[1;32m    239\u001b[0m     \u001b[0minvestments_per_year\u001b[0m \u001b[0;34m=\u001b[0m \u001b[0msector_investments\u001b[0m\u001b[0;34m.\u001b[0m\u001b[0mgroupby\u001b[0m\u001b[0;34m(\u001b[0m\u001b[0;34m[\u001b[0m\u001b[0;34m'Year'\u001b[0m\u001b[0;34m]\u001b[0m\u001b[0;34m)\u001b[0m\u001b[0;34m.\u001b[0m\u001b[0mcount\u001b[0m\u001b[0;34m(\u001b[0m\u001b[0;34m)\u001b[0m\u001b[0;34m\u001b[0m\u001b[0;34m\u001b[0m\u001b[0m\n",
      "\u001b[0;31mNameError\u001b[0m: name 'plt' is not defined"
     ]
    },
    {
     "data": {
      "image/png": "[encoded data removed]",
      "text/plain": [
       "<Figure size 432x288 with 1 Axes>"
      ]
     },
     "metadata": {
      "needs_background": "light"
     },
     "output_type": "display_data"
    }
   ],
   "source": [
    "st.category(sector, investments)"
   ]
  },
  {
   "cell_type": "code",
   "execution_count": 5,
   "metadata": {},
   "outputs": [
    {
     "data": {
      "text/html": [
       "<img src=\"https://crunchbase-production-res.cloudinary.com/image/upload/c_lpad,h_120,w_120,f_jpg/aj5cf7xkyto2tuyhrpzv\"/>"
      ],
      "text/plain": [
       "<IPython.core.display.Image object>"
      ]
     },
     "metadata": {},
     "output_type": "display_data"
    },
    {
     "name": "stdout",
     "output_type": "stream",
     "text": [
      "We found this information about Tim Cook:\n",
      "Founder's name: Tim Cook \n",
      "Title: CEO at Apple\n",
      "Organization: Apple\n",
      "Location: Palo Alto, California, US\n",
      "Twitter URL: http://twitter.com/tim_cook\n",
      "Linkedin URL: https://www.linkedin.com/in/tim-cook-8284949\n",
      "Facebook URL: https://www.facebook.com/profile.php?id=100013871597704\n"
     ]
    },
    {
     "data": {
      "text/html": [
       "<img src=\"https://crunchbase-production-res.cloudinary.com/image/upload/c_lpad,h_120,w_120,f_jpg/v1397182032/c3f1d57397906c3cd5dd06e85ac47b0e.jpg\"/>"
      ],
      "text/plain": [
       "<IPython.core.display.Image object>"
      ]
     },
     "metadata": {},
     "output_type": "display_data"
    },
    {
     "name": "stdout",
     "output_type": "stream",
     "text": [
      "We found this information about Tim Cook:\n",
      "Founder's name: Tim Cook \n",
      "Title: Vice President, North America at General Atlantic\n",
      "Organization: General Atlantic\n",
      "Location: None, None, None\n",
      "Linkedin URL: http://www.linkedin.com/pub/timothy-cook/3/179/241\n"
     ]
    },
    {
     "data": {
      "text/html": [
       "<img src=\"https://crunchbase-production-res.cloudinary.com/image/upload/c_lpad,h_120,w_120,f_jpg/v1415274306/sgfbm0ob3rfss0i2jc79.jpg\"/>"
      ],
      "text/plain": [
       "<IPython.core.display.Image object>"
      ]
     },
     "metadata": {},
     "output_type": "display_data"
    },
    {
     "name": "stdout",
     "output_type": "stream",
     "text": [
      "We found this information about Tim Cook:\n",
      "Founder's name: Tim Cook \n",
      "Title: Chief Executive Officer at BlueOSS\n",
      "Organization: BlueOSS\n",
      "Location: Great Falls, Virginia, US\n"
     ]
    },
    {
     "data": {
      "text/html": [
       "<img src=\"https://crunchbase-production-res.cloudinary.com/image/upload/c_lpad,h_120,w_120,f_jpg/v1491564293/tdnkzns6qnlj693cbuwe.png\"/>"
      ],
      "text/plain": [
       "<IPython.core.display.Image object>"
      ]
     },
     "metadata": {},
     "output_type": "display_data"
    },
    {
     "name": "stdout",
     "output_type": "stream",
     "text": [
      "We found this information about Tim Cook:\n",
      "Founder's name: Tim Cook \n",
      "Title: Chief Executive Officer at BluLogix LLC\n",
      "Organization: BluLogix LLC\n",
      "Location: Washington, District of Columbia, US\n",
      "Linkedin URL: https://www.linkedin.com/in/timdcook/\n"
     ]
    },
    {
     "data": {
      "text/html": [
       "<img src=\"https://crunchbase-production-res.cloudinary.com/image/upload/c_lpad,h_120,w_120,f_jpg/khvmtrdttiptijufqhti\"/>"
      ],
      "text/plain": [
       "<IPython.core.display.Image object>"
      ]
     },
     "metadata": {},
     "output_type": "display_data"
    },
    {
     "name": "stdout",
     "output_type": "stream",
     "text": [
      "We found this information about Tim Cook:\n",
      "Founder's name: Tim Cook \n",
      "Title: Co-Founder and President, CEO at Uromedica\n",
      "Organization: Uromedica\n",
      "Location: None, None, None\n",
      "Linkedin URL: https://www.linkedin.com/in/tim-cook-46198611/\n",
      "The sentiment about Tim Cook in Twitter is Negative\n",
      "\n",
      "        We found something sketchy. You might want to check this link:\n",
      "            https://9to5mac.com/guides/tim-cook/\n",
      "        \n"
     ]
    }
   ],
   "source": [
    "st.founders(founder, people)"
   ]
  },
  {
   "cell_type": "code",
   "execution_count": 30,
   "metadata": {
    "code_folding": []
   },
   "outputs": [],
   "source": [
    "def find_companies_by_size(size):\n",
    "    company_nan = companies.dropna()\n",
    "    company_sector = company_nan[company_nan['category_list'].str.contains(sector)].drop('index',axis=1).dropna()\n",
    "    company_sector['total_funding_size']=pd.qcut(company_sector.funding_total_usd, q=[0, .25, .75, 1], labels=['small', 'medium', 'big'])\n",
    "    if name in company_nan['name']:\n",
    "        return company_sector[(company_sector['total_funding_size']==size)& (company_sector['funding_total_usd'] > 100000) & (company_sector['status'] != 'closed')& (company_sector['country_code']==company.country_code)].sample()\n",
    "    else:     \n",
    "        return company_sector[(company_sector['total_funding_size']==size)& (company_sector['funding_total_usd'] > 100000) & (company_sector['status'] != 'closed')].sample()"
   ]
  },
  {
   "cell_type": "code",
   "execution_count": 31,
   "metadata": {},
   "outputs": [],
   "source": [
    "def competitor_info(company):\n",
    "    print(f\"Company name: {company.name.item()}\")\n",
    "    print(f\"Total money raised: ${format(company.funding_total_usd.item(),',.2f')}\")\n",
    "    print(f\"Total rounds: {company.funding_rounds.item()}\")\n",
    "    print(f\"Webpage: {company.homepage_url.item()}\")\n",
    "    print(f\"Country: {company.country_code.item()}\")\n",
    "    print(f\"Status: {company.status.item()}\")\n",
    "    print(f\"Founded in: {company.founded_at.item()}\")\n",
    "    "
   ]
  },
  {
   "cell_type": "code",
   "execution_count": 36,
   "metadata": {},
   "outputs": [],
   "source": [
    "def startup(name, companies):\n",
    "    company = companies[companies['name'] == name]\n",
    "    #display(Image(url=company.profile_image_url))\n",
    "    \n",
    "    try:\n",
    "        print(f\"Company name: {company.name.item()}\")\n",
    "        print(f\"Total money raised: ${format(company.funding_total_usd.item(),',.2f')}\")\n",
    "        print(f\"Total rounds: {company.funding_rounds.item()}\")\n",
    "        print(f\"Status: {company.status.item()}\")\n",
    "   \n",
    "    # Find competitors\n",
    "        print('\\n')\n",
    "        print(f\"Competitors similar to {company.name.item()}:\")\n",
    "        print('\\n')\n",
    "        competitor_info(find_companies_by_size('small'))\n",
    "        print('\\n')      \n",
    "        competitor_info(find_companies_by_size('medium'))\n",
    "        print('\\n')     \n",
    "        competitor_info(find_companies_by_size('big'))\n",
    "    except: \n",
    "        print(f\"We couldn't find information about {name} in Crunchbase\")\n",
    "    # Google search\n",
    "    try:\n",
    "        most_warnings(find_webs(name))\n",
    "    except:\n",
    "        print(f\"We haven't found anything worring about {name} on Google in english. Nice!\")\n",
    "    \n",
    "    "
   ]
  },
  {
   "cell_type": "code",
   "execution_count": 33,
   "metadata": {},
   "outputs": [
    {
     "name": "stdout",
     "output_type": "stream",
     "text": [
      "Company name: Apple\n",
      "Total money raised: $250,000.00\n",
      "Total rounds: 1\n",
      "Status: ipo\n",
      "\n",
      "\n",
      "Competitors similar to Apple:\n",
      "\n",
      "\n",
      "Company name: AmigoCAT\n",
      "Total money raised: $129,679.00\n",
      "Total rounds: 1\n",
      "Webpage: http://www.amigocat.com/\n",
      "Country: FRA\n",
      "Status: operating\n",
      "Founded in: 2013-01-01\n",
      "\n",
      "\n",
      "Company name: SpecialNeedsWare\n",
      "Total money raised: $3,000,000.00\n",
      "Total rounds: 1\n",
      "Webpage: http://specialneedsware.com\n",
      "Country: USA\n",
      "Status: operating\n",
      "Founded in: 2011-01-01\n",
      "\n",
      "\n",
      "Company name: Palo Alto Networks\n",
      "Total money raised: $329,000,000.00\n",
      "Total rounds: 5\n",
      "Webpage: http://www.paloaltonetworks.com\n",
      "Country: USA\n",
      "Status: ipo\n",
      "Founded in: 2005-01-01\n",
      "We couldn't find info about Apple on google in english\n"
     ]
    }
   ],
   "source": [
    "startup(name)"
   ]
  },
  {
   "cell_type": "markdown",
   "metadata": {},
   "source": [
    "### To improve\n",
    "> Message if cannot find info (NO)\n",
    "\n",
    "> Predict growth of market (NO)\n",
    "\n",
    "> Suggestions (Difflib) (founder)\n",
    "\n",
    "> Twitter feed with stats (NO)\n",
    "\n",
    "> Show only first appearence on founder\n"
   ]
  },
  {
   "cell_type": "code",
   "execution_count": 34,
   "metadata": {},
   "outputs": [
    {
     "data": {
      "text/plain": [
       "3"
      ]
     },
     "execution_count": 34,
     "metadata": {},
     "output_type": "execute_result"
    }
   ],
   "source": [
    "tring = ['bla', 'bla', 'bla' ,'no' ,'no' ,'no' ,'si', 'que', 'como' ,'cosa']\n",
    "FreqDist(tring)['bla'] "
   ]
  },
  {
   "cell_type": "code",
   "execution_count": null,
   "metadata": {},
   "outputs": [],
   "source": []
  }
 ],
 "metadata": {
  "kernelspec": {
   "display_name": "Python 3",
   "language": "python",
   "name": "python3"
  },
  "language_info": {
   "codemirror_mode": {
    "name": "ipython",
    "version": 3
   },
   "file_extension": ".py",
   "mimetype": "text/x-python",
   "name": "python",
   "nbconvert_exporter": "python",
   "pygments_lexer": "ipython3",
   "version": "3.7.2"
  }
 },
 "nbformat": 4,
 "nbformat_minor": 2
}
