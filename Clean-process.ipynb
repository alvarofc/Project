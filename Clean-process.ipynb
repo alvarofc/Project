{
 "cells": [
  {
   "cell_type": "markdown",
   "metadata": {},
   "source": [
    "# Stalker, startup due dilligence automation"
   ]
  },
  {
   "cell_type": "code",
   "execution_count": 1,
   "metadata": {},
   "outputs": [],
   "source": [
    "# Libraries\n",
    "import numpy as np\n",
    "import pandas as pd\n",
    "import matplotlib.pyplot as plt\n",
    "import seaborn as sns\n",
    "from sqlalchemy import create_engine\n",
    "from IPython.display import Image, display\n",
    "# BeautifulSoup\n",
    "from bs4 import BeautifulSoup as bs\n",
    "from bs4.element import Comment\n",
    "import urllib.request\n",
    "from difflib import get_close_matches\n",
    "import json\n",
    "# Twitter sentiment analysis\n",
    "import tweepy\n",
    "from textblob import TextBlob\n",
    "# News API\n",
    "from newsapi import NewsApiClient\n",
    "# Tldextract to get domain of url\n",
    "import tldextract as tld\n",
    "# NLTK to analyze webs\n",
    "import nltk\n",
    "from nltk.corpus import stopwords\n",
    "from nltk import FreqDist\n",
    "from nltk.tokenize import word_tokenize\n",
    "# Google search\n",
    "from googlesearch import search"
   ]
  },
  {
   "cell_type": "code",
   "execution_count": 2,
   "metadata": {},
   "outputs": [],
   "source": [
    "newsapi = NewsApiClient(api_key='f4b7461debe141aaa97906aaa15774e0')"
   ]
  },
  {
   "cell_type": "code",
   "execution_count": 3,
   "metadata": {},
   "outputs": [],
   "source": [
    "news_sources = 'the-verge,buzzfeed,engadget,hacker-news,mashable,reddit-r-all,wired,techcrunch'"
   ]
  },
  {
   "cell_type": "code",
   "execution_count": 4,
   "metadata": {},
   "outputs": [],
   "source": [
    "# Twitter API\n",
    "consumer_key = 'z7JowVKfk7O7e91kqcAXTHvWm'\n",
    "consumer_key_secret = '8KkTo5G3NhaX2gLIF3MMIl5Kb2U3N21kBrmb7pAEIMXBLRHDjo'\n",
    "access_token = '266094721-7wiXyVFTvA5Zdsj5sNFiR5w2wokjROsT2bNrkb2w'\n",
    "access_token_secret = 'huhhS6OCprQpyz6KDm5CQbXvymERJNP6wesztk0cmfn7m'"
   ]
  },
  {
   "cell_type": "code",
   "execution_count": 5,
   "metadata": {},
   "outputs": [],
   "source": [
    "# News Api\n",
    "newsapi = NewsApiClient(api_key='f4b7461debe141aaa97906aaa15774e0')\n",
    "news_sources = 'the-verge,buzzfeed,engadget,hacker-news,mashable,reddit-r-all,wired,techcrunch'\n",
    "\n",
    "# Twitter API\n",
    "consumer_key = 'z7JowVKfk7O7e91kqcAXTHvWm'\n",
    "consumer_key_secret = '8KkTo5G3NhaX2gLIF3MMIl5Kb2U3N21kBrmb7pAEIMXBLRHDjo'\n",
    "access_token = '266094721-7wiXyVFTvA5Zdsj5sNFiR5w2wokjROsT2bNrkb2w'\n",
    "access_token_secret = 'huhhS6OCprQpyz6KDm5CQbXvymERJNP6wesztk0cmfn7m'\n",
    "\n",
    "auth = tweepy.OAuthHandler(consumer_key, consumer_key_secret)\n",
    "auth.set_access_token(access_token, access_token_secret)\n",
    "api = tweepy.API(auth)"
   ]
  },
  {
   "cell_type": "code",
   "execution_count": 6,
   "metadata": {},
   "outputs": [],
   "source": [
    "# Connect to database\n",
    "\n",
    "driver = 'mysql+pymysql:'\n",
    "user = 'alvaro'\n",
    "password = 'stalvaro19962013'   \n",
    "ip = '35.246.28.129'\n",
    "database = 'data_crunch'\n",
    "connection_string = f'{driver}//{user}:{password}@{ip}/{database}?charset=utf8'\n",
    "engine = create_engine(connection_string)"
   ]
  },
  {
   "cell_type": "code",
   "execution_count": 7,
   "metadata": {},
   "outputs": [],
   "source": [
    "# Get data from database\n",
    "companies = pd.read_sql_table(table_name='companies15', con=connection_string)\n",
    "investments = pd.read_sql_table(table_name='investments15', con=connection_string)\n",
    "people = pd.read_sql_table(table_name='people', con=connection_string)\n",
    "rounds = pd.read_sql_table(table_name='rounds15', con=connection_string)"
   ]
  },
  {
   "cell_type": "code",
   "execution_count": 8,
   "metadata": {},
   "outputs": [],
   "source": [
    "investments = investments.dropna(subset=['raised_amount_usd', 'company_category_list'])\n",
    "sector_list0 = []\n",
    "sector_list = []\n",
    "for item in investments['company_category_list']:\n",
    "    if ',' in item:\n",
    "        sector_list0.append(item.split(sep=', '))\n",
    "    else:\n",
    "        sector_list0.append(item)\n",
    "for i in sector_list0:\n",
    "    if type(i) == list:\n",
    "        for sec in i:\n",
    "            sector_list.append(sec)\n",
    "\n",
    "    else:\n",
    "        sector_list.append(i)"
   ]
  },
  {
   "cell_type": "code",
   "execution_count": 9,
   "metadata": {},
   "outputs": [],
   "source": [
    "companies_list = []\n",
    "for i in companies.dropna(subset=['name']).name:\n",
    "    companies_list.append(i)"
   ]
  },
  {
   "cell_type": "code",
   "execution_count": 10,
   "metadata": {},
   "outputs": [
    {
     "data": {
      "text/plain": [
       "624163"
      ]
     },
     "execution_count": 10,
     "metadata": {},
     "output_type": "execute_result"
    }
   ],
   "source": [
    "len(people)"
   ]
  },
  {
   "cell_type": "code",
   "execution_count": 11,
   "metadata": {},
   "outputs": [],
   "source": [
    "founder_list = []\n",
    "name = people.dropna(subset=['first_name']).first_name\n",
    "surname = people.dropna(subset=['last_name']).last_name\n",
    "for i in range(len(people.dropna(subset=['first_name']).first_name)):\n",
    "    founder_list.append([name[i], surname[i]])"
   ]
  },
  {
   "cell_type": "code",
   "execution_count": 12,
   "metadata": {},
   "outputs": [
    {
     "data": {
      "text/plain": [
       "624163"
      ]
     },
     "execution_count": 12,
     "metadata": {},
     "output_type": "execute_result"
    }
   ],
   "source": [
    "len(founder_list)"
   ]
  },
  {
   "cell_type": "markdown",
   "metadata": {},
   "source": [
    "## Google search"
   ]
  },
  {
   "cell_type": "code",
   "execution_count": 13,
   "metadata": {},
   "outputs": [],
   "source": [
    "# Finding related urls\n",
    "\n",
    "def find_webs(query):\n",
    "    urls = []\n",
    "    rrss = ['facebook', 'twitter', 'linkedin', 'instagram', 'youtube','pinterest','angel']\n",
    "    sites = []\n",
    "    red_social = False\n",
    "    for s in search(query, tld=\"com\", num=30, stop=30, pause=3, lang='en'):\n",
    "\n",
    "        if len(urls)<10:\n",
    "            for rs in rrss:\n",
    "                if rs in s or tld.extract(s).domain in sites:\n",
    "                    red_social = True\n",
    "            if not red_social and s not in urls:\n",
    "                urls.append(s)\n",
    "                sites.append(tld.extract(s).domain)  \n",
    "\n",
    "            red_social = False\n",
    "    return urls"
   ]
  },
  {
   "cell_type": "code",
   "execution_count": 14,
   "metadata": {},
   "outputs": [],
   "source": [
    "def tag_visible(element):\n",
    "    if element.parent.name in ['style', 'script', 'head', 'title', 'meta', '[document]']:\n",
    "        return False\n",
    "    if isinstance(element, Comment):\n",
    "        return False\n",
    "    return True\n",
    "\n",
    "\n",
    "def text_from_html(body):\n",
    "    soup = bs(body, 'html.parser')\n",
    "    texts = soup.findAll(text=True)\n",
    "    visible_texts = filter(tag_visible, texts)  \n",
    "    return u\" \".join(t.strip() for t in visible_texts)"
   ]
  },
  {
   "cell_type": "code",
   "execution_count": 15,
   "metadata": {
    "code_folding": []
   },
   "outputs": [],
   "source": [
    "def cleaning_urls_text(url):\n",
    "    try:\n",
    "        html = text_from_html(urllib.request.urlopen(url).read())\n",
    "        stop_words = set(stopwords.words('english')) \n",
    "        word_tokens = word_tokenize(html)\n",
    "        return [w for w in word_tokens if not w in stop_words]\n",
    "    except:\n",
    "        return []\n",
    "\n",
    "def filter_warning_words(sentence):\n",
    "    warning_word = ['lie', 'fraud', 'scam', 'extortion', 'deceit', 'crime','arson', 'assault', 'bigamy', 'blackmail',\n",
    "                'bribery', 'burglary', 'child abuse', 'conspiracy', 'espionage', 'forgery', 'fraud', 'genocide', \n",
    "                'hijacking','homicide', 'kidnapping', 'manslaughter', 'mugging', 'murder', 'perjury', 'rape', 'riot',\n",
    "                'robbery', 'shoplifting', 'slander', 'smuggling', 'treason', 'trespassing']\n",
    "    return list(filter(lambda word: word in warning_word, sentence))\n",
    "\n",
    "def warnings_count(url):\n",
    "    clean_sentence = cleaning_urls_text(url)\n",
    "    length = len(filter_warning_words(clean_sentence))\n",
    "    return (url, length) if length != 0 else None "
   ]
  },
  {
   "cell_type": "code",
   "execution_count": 16,
   "metadata": {
    "code_folding": []
   },
   "outputs": [],
   "source": [
    "def most_warnings(urls):\n",
    "    list_len_tup = list(map(warnings_count, urls))\n",
    "    list_len_tup_clean = list(filter(lambda item: item != None, list_len_tup))\n",
    "    list_len_tup_clean.sort(key = lambda item: item[1], reverse=True)\n",
    "    top_urls = [url for url, length in list_len_tup_clean[:2]]\n",
    "    if len(top_urls) > 1:\n",
    "        print(f\"\"\"\n",
    "        We found something sketchy. You might want to check these links:\n",
    "        \n",
    "            - {top_urls[0]}\n",
    "            \n",
    "            - {top_urls[1]}\n",
    "        \"\"\")\n",
    "    else:\n",
    "        print(f\"\"\"\n",
    "        We found something sketchy. You might want to check this link:\n",
    "            {top_urls[0]}\n",
    "        \"\"\")"
   ]
  },
  {
   "cell_type": "markdown",
   "metadata": {},
   "source": [
    "## Getting info about the company from the user"
   ]
  },
  {
   "cell_type": "code",
   "execution_count": 17,
   "metadata": {},
   "outputs": [],
   "source": [
    "def retrieve_name(my_name):\n",
    "    \n",
    "    if my_name in companies_list:\n",
    "        return my_name\n",
    "    elif len(get_close_matches(my_name, companies_list)) > 0:\n",
    "        action = input(\"Did you mean %s instead? [y or n]: \" % get_close_matches(my_name, companies_list)[0])\n",
    "        if (action == \"y\"):\n",
    "            return get_close_matches(my_name, companies_list)[0]\n",
    "        elif (action == \"n\"):\n",
    "            return my_name\n",
    "        else:\n",
    "            return(\"we don't understand you. Apologies.\")"
   ]
  },
  {
   "cell_type": "code",
   "execution_count": 18,
   "metadata": {},
   "outputs": [
    {
     "name": "stdout",
     "output_type": "stream",
     "text": [
      "Name of the company: Apple\n"
     ]
    }
   ],
   "source": [
    "name0 = input('Name of the company: ')\n",
    "name = retrieve_name(name0)"
   ]
  },
  {
   "cell_type": "code",
   "execution_count": 19,
   "metadata": {},
   "outputs": [],
   "source": [
    "def retrieve_sector(my_sector):\n",
    "    \n",
    "    if my_sector in sector_list:\n",
    "        return my_sector\n",
    "    elif len(get_close_matches(my_sector, sector_list)) > 0:\n",
    "        action = input(\"Did you mean %s instead? [y or n]: \" % get_close_matches(my_sector, sector_list) [0])\n",
    "        if (action == \"y\"):\n",
    "            return get_close_matches(my_sector, sector_list)[0]\n",
    "        else:\n",
    "            return my_sector"
   ]
  },
  {
   "cell_type": "code",
   "execution_count": 20,
   "metadata": {},
   "outputs": [
    {
     "name": "stdout",
     "output_type": "stream",
     "text": [
      "In what sector is this company working?: Computers\n"
     ]
    }
   ],
   "source": [
    "sector0 = input('In what sector is this company working?: ')\n",
    "sector = retrieve_sector(sector0)"
   ]
  },
  {
   "cell_type": "code",
   "execution_count": 21,
   "metadata": {},
   "outputs": [],
   "source": [
    "def retrieve_founder(my_founder):\n",
    "    \n",
    "    if my_founder in founder_list:\n",
    "        return my_founder\n",
    "    elif len(get_close_matches(my_founder, founder_list)) > 0:\n",
    "        action = input(\"Did you mean %s instead? [y or n]: \" % get_close_matches(my_sector, sector_list) [0])\n",
    "        if (action == \"y\"):\n",
    "            return get_close_matches(my_founder, founder_list)[0]\n",
    "        else:\n",
    "            return my_founder"
   ]
  },
  {
   "cell_type": "code",
   "execution_count": 22,
   "metadata": {},
   "outputs": [
    {
     "name": "stdout",
     "output_type": "stream",
     "text": [
      "What is the name of the founder?: Tim Cook\n"
     ]
    }
   ],
   "source": [
    "\n",
    "founder = input('What is the name of the founder?: ')"
   ]
  },
  {
   "cell_type": "markdown",
   "metadata": {},
   "source": [
    "## Looking for info in Crunchbase"
   ]
  },
  {
   "cell_type": "code",
   "execution_count": 23,
   "metadata": {},
   "outputs": [],
   "source": [
    "# Sentiment analysis tweeter\n",
    "def tw_sent_sector(public_tweets):    \n",
    "    sentiment_list = []\n",
    "    for tweet in public_tweets:\n",
    "        analysis = TextBlob(tweet.text)\n",
    "        sentiment_list.append(analysis.sentiment[0])\n",
    "    if sum(sentiment_list)>0:\n",
    "         sent = 'Positive'\n",
    "    elif sum(sentiment_list)<0:\n",
    "        sent = 'Negative'\n",
    "    else:\n",
    "        sent = 'Neutral'\n",
    "    print(f\"The sentiment about {sector} industry in Twitter is {sent}\")"
   ]
  },
  {
   "cell_type": "code",
   "execution_count": 24,
   "metadata": {},
   "outputs": [],
   "source": [
    "# Sentiment analysis news\n",
    "def news_sentiment_sector(public_news):\n",
    "    news_list = []\n",
    "    for piece in range(len(public_news['articles'])):\n",
    "        news_list.append(TextBlob(public_news['articles'][piece]['title']).sentiment[0])\n",
    "        news_list.append(TextBlob(public_news['articles'][piece]['description']).sentiment[0]) \n",
    "    if sum(news_list)>0:\n",
    "        news_sent = 'Positive'\n",
    "    elif sum(news_list)<0:\n",
    "        news_sent = 'Negative'\n",
    "    else:\n",
    "        news_sent = 'Neutral'\n",
    "    print(f\"There have been {len(public_news)} news pieces about {sector} industry recently and are in general {news_sent}\")"
   ]
  },
  {
   "cell_type": "code",
   "execution_count": 25,
   "metadata": {
    "code_folding": []
   },
   "outputs": [],
   "source": [
    "def category(sector):\n",
    "    # Gather tweets\n",
    "    public_tweets = api.search(sector)\n",
    "    \n",
    "    # Gather news\n",
    "    public_news = newsapi.get_everything(q=sector,sources=news_sources,language='en')\n",
    "    \n",
    "    # Prepare the data for the sector\n",
    "    sector_investments = investments[investments['company_category_list'].str.contains(sector)].drop('index',axis=1)\n",
    "    sector_investments.reset_index(drop=True)\n",
    "    sector_investments['funded_at'] = pd.to_datetime(sector_investments['funded_at'])\n",
    "    sector_investments['Year'] = sector_investments['funded_at'].apply(lambda x: x.year )\n",
    "    sector_investments['Month'] = sector_investments['funded_at'].apply(lambda x: x.month )\n",
    "    sector_investments['Day'] = sector_investments['funded_at'].apply(lambda x: x.day )\n",
    "    \n",
    "    # Sentiment analysis Twitter\n",
    "    tw_sent_sector(public_tweets)\n",
    "    \n",
    "    # Sentiment analysis News\n",
    "    news_sentiment_sector(public_news)\n",
    "    \n",
    "    # create plot\n",
    "    sector_year = sector_investments.groupby(['Year']).sum()[-10:]\n",
    "    movement = ((sector_year.raised_amount_usd.iloc[len(sector_year)-1] - sector_year.raised_amount_usd.iloc[0])/sector_year.raised_amount_usd.iloc[0]*100)\n",
    "    if sector_year.raised_amount_usd.iloc[0] + sector_year.raised_amount_usd.iloc[len(sector_year)-1] >= 0:\n",
    "        in_dec = 'increased'\n",
    "        grow = 'growing'\n",
    "    else:\n",
    "        in_dec = 'decreased'\n",
    "        grow = 'falling'\n",
    "        movement = movement[1:]\n",
    "    sns.lineplot(x=sector_year.index, y=sector_year.raised_amount_usd).set_title(f'Evolution of the amount invested in {sector}')\n",
    "    peak_year =  sector_year.index[sector_year['raised_amount_usd']== max(sector_year.raised_amount_usd)].to_list()\n",
    "    peak_amount = max(sector_year.raised_amount_usd)\n",
    "    low_amount = min(sector_year.raised_amount_usd)\n",
    "    low_year = sector_year.index[sector_year['raised_amount_usd']== min(sector_year.raised_amount_usd)].to_list()\n",
    "    format_doll = ',.2f'\n",
    "    print(f\"\"\"The amount of money invested in {sector} companies has {in_dec} by {format(abs(movement),format_doll)}% in the last {len(sector_year)} years, \n",
    "it is expected to keep {grow} by X the next  X years. \n",
    "It peaked in year {peak_year} with ${format(peak_amount,format_doll)} invested and its lowest point was in year {low_year} with ${format(low_amount,format_doll)} invested.\"\"\")\n",
    "    plt.ylabel('Raised amount in USD')\n",
    "    plt.show()\n",
    "    investments_per_year = sector_investments.groupby(['Year']).count()\n",
    "    sns.lineplot(x=investments_per_year.index[-10:], y=investments_per_year.Day[-10:]).set_title(f'Evolution of the number of investment in {sector}')\n",
    "    plt.ylabel('Number of investments')\n",
    "    print(\"\"\"Plot explanaition average investment\n",
    "    \n",
    "    \"\"\")\n",
    "    plt.show()"
   ]
  },
  {
   "cell_type": "code",
   "execution_count": 26,
   "metadata": {},
   "outputs": [
    {
     "name": "stdout",
     "output_type": "stream",
     "text": [
      "The sentiment about Computers industry in Twitter is Negative\n",
      "There have been 3 news pieces about Computers industry recently and are in general Positive\n",
      "The amount of money invested in Computers companies has increased by 13.89% in the last 10 years, \n",
      "it is expected to keep growing by X the next  X years. \n",
      "It peaked in year [2006] with $633,710,705.00 invested and its lowest point was in year [2012] with $99,438,589.00 invested.\n"
     ]
    },
    {
     "data": {
      "image/png": "[encoded data removed]",
      "text/plain": [
       "<Figure size 432x288 with 1 Axes>"
      ]
     },
     "metadata": {
      "needs_background": "light"
     },
     "output_type": "display_data"
    },
    {
     "name": "stdout",
     "output_type": "stream",
     "text": [
      "Plot explanaition average investment\n",
      "    \n",
      "    \n"
     ]
    },
    {
     "data": {
      "image/png": "[encoded data removed]",
      "text/plain": [
       "<Figure size 432x288 with 1 Axes>"
      ]
     },
     "metadata": {
      "needs_background": "light"
     },
     "output_type": "display_data"
    }
   ],
   "source": [
    "category(sector)"
   ]
  },
  {
   "cell_type": "code",
   "execution_count": 27,
   "metadata": {},
   "outputs": [],
   "source": [
    " # Sentiment analysis\n",
    "def tw_analysis_founder(public_tweets):\n",
    "    sentiment_list = []\n",
    "    for tweet in public_tweets:\n",
    "        analysis = TextBlob(tweet.text)\n",
    "        sentiment_list.append(analysis.sentiment[0])\n",
    "    if sum(sentiment_list)>0:\n",
    "         sent = 'Positive'\n",
    "    elif sum(sentiment_list)<0:\n",
    "        sent = 'Negative'\n",
    "    else:\n",
    "        sent = 'Neutral'\n",
    "    print(f\"The sentiment about {founder} in Twitter is {sent}\")\n",
    "            "
   ]
  },
  {
   "cell_type": "code",
   "execution_count": 28,
   "metadata": {},
   "outputs": [],
   "source": [
    "def founders(founder):\n",
    "    full_name = founder.split()\n",
    "    public_tweets = api.search(founder)\n",
    "    for i in range(len(people)):\n",
    "        if people.first_name.iloc[i] == full_name[0] and people.last_name.iloc[i]==full_name[1]:\n",
    "            display(Image(url=people.profile_image_url[i]))\n",
    "            print(f'We found this information about {founder}:')\n",
    "            print(f\"Founder's name: {people.first_name[i]} {people.last_name[i]} \")\n",
    "            print(f\"Title: {people.title[i]}\")\n",
    "            print(f\"Organization: {people.organization[i]}\")\n",
    "            print(f\"Location: {people.location_city[i]}, {people.location_region[i]}, {people.location_country_code[i]}\")\n",
    "            if people.twitter_url[i] != None:\n",
    "                print(f\"Twitter URL: {people.twitter_url[i]}\")\n",
    "            if people.linkedin_url[i] != None:\n",
    "                print(f\"Linkedin URL: {people.linkedin_url[i]}\")\n",
    "            if people.facebook_url[i] != None:\n",
    "                print(f\"Facebook URL: {people.facebook_url[i]}\")\n",
    "    # Twitter analysis\n",
    "    tw_analysis_founder(public_tweets)\n",
    "    # Google search\n",
    "    most_warnings(find_webs(founder))\n",
    "    "
   ]
  },
  {
   "cell_type": "code",
   "execution_count": 29,
   "metadata": {},
   "outputs": [
    {
     "data": {
      "text/html": [
       "<img src=\"https://crunchbase-production-res.cloudinary.com/image/upload/c_lpad,h_120,w_120,f_jpg/aj5cf7xkyto2tuyhrpzv\"/>"
      ],
      "text/plain": [
       "<IPython.core.display.Image object>"
      ]
     },
     "metadata": {},
     "output_type": "display_data"
    },
    {
     "name": "stdout",
     "output_type": "stream",
     "text": [
      "We found this information about Tim Cook:\n",
      "Founder's name: Tim Cook \n",
      "Title: CEO at Apple\n",
      "Organization: Apple\n",
      "Location: Palo Alto, California, US\n",
      "Twitter URL: http://twitter.com/tim_cook\n",
      "Linkedin URL: https://www.linkedin.com/in/tim-cook-8284949\n",
      "Facebook URL: https://www.facebook.com/profile.php?id=100013871597704\n"
     ]
    },
    {
     "data": {
      "text/html": [
       "<img src=\"https://crunchbase-production-res.cloudinary.com/image/upload/c_lpad,h_120,w_120,f_jpg/v1397182032/c3f1d57397906c3cd5dd06e85ac47b0e.jpg\"/>"
      ],
      "text/plain": [
       "<IPython.core.display.Image object>"
      ]
     },
     "metadata": {},
     "output_type": "display_data"
    },
    {
     "name": "stdout",
     "output_type": "stream",
     "text": [
      "We found this information about Tim Cook:\n",
      "Founder's name: Tim Cook \n",
      "Title: Vice President, North America at General Atlantic\n",
      "Organization: General Atlantic\n",
      "Location: None, None, None\n",
      "Linkedin URL: http://www.linkedin.com/pub/timothy-cook/3/179/241\n"
     ]
    },
    {
     "data": {
      "text/html": [
       "<img src=\"https://crunchbase-production-res.cloudinary.com/image/upload/c_lpad,h_120,w_120,f_jpg/v1415274306/sgfbm0ob3rfss0i2jc79.jpg\"/>"
      ],
      "text/plain": [
       "<IPython.core.display.Image object>"
      ]
     },
     "metadata": {},
     "output_type": "display_data"
    },
    {
     "name": "stdout",
     "output_type": "stream",
     "text": [
      "We found this information about Tim Cook:\n",
      "Founder's name: Tim Cook \n",
      "Title: Chief Executive Officer at BlueOSS\n",
      "Organization: BlueOSS\n",
      "Location: Great Falls, Virginia, US\n"
     ]
    },
    {
     "data": {
      "text/html": [
       "<img src=\"https://crunchbase-production-res.cloudinary.com/image/upload/c_lpad,h_120,w_120,f_jpg/v1491564293/tdnkzns6qnlj693cbuwe.png\"/>"
      ],
      "text/plain": [
       "<IPython.core.display.Image object>"
      ]
     },
     "metadata": {},
     "output_type": "display_data"
    },
    {
     "name": "stdout",
     "output_type": "stream",
     "text": [
      "We found this information about Tim Cook:\n",
      "Founder's name: Tim Cook \n",
      "Title: Chief Executive Officer at BluLogix LLC\n",
      "Organization: BluLogix LLC\n",
      "Location: Washington, District of Columbia, US\n",
      "Linkedin URL: https://www.linkedin.com/in/timdcook/\n"
     ]
    },
    {
     "data": {
      "text/html": [
       "<img src=\"https://crunchbase-production-res.cloudinary.com/image/upload/c_lpad,h_120,w_120,f_jpg/khvmtrdttiptijufqhti\"/>"
      ],
      "text/plain": [
       "<IPython.core.display.Image object>"
      ]
     },
     "metadata": {},
     "output_type": "display_data"
    },
    {
     "name": "stdout",
     "output_type": "stream",
     "text": [
      "We found this information about Tim Cook:\n",
      "Founder's name: Tim Cook \n",
      "Title: Co-Founder and President, CEO at Uromedica\n",
      "Organization: Uromedica\n",
      "Location: None, None, None\n",
      "Linkedin URL: https://www.linkedin.com/in/tim-cook-46198611/\n",
      "The sentiment about Tim Cook in Twitter is Positive\n",
      "\n",
      "        We found something sketchy. You might want to check this link:\n",
      "            https://9to5mac.com/guides/tim-cook/\n",
      "        \n"
     ]
    }
   ],
   "source": [
    "founders(founder)"
   ]
  },
  {
   "cell_type": "code",
   "execution_count": 30,
   "metadata": {
    "code_folding": []
   },
   "outputs": [],
   "source": [
    "def find_companies_by_size(size):\n",
    "    company_nan = companies.dropna()\n",
    "    company_sector = company_nan[company_nan['category_list'].str.contains(sector)].drop('index',axis=1).dropna()\n",
    "    company_sector['total_funding_size']=pd.qcut(company_sector.funding_total_usd, q=[0, .25, .75, 1], labels=['small', 'medium', 'big'])\n",
    "    if name in company_nan['name']:\n",
    "        return company_sector[(company_sector['total_funding_size']==size)& (company_sector['funding_total_usd'] > 100000) & (company_sector['status'] != 'closed')& (company_sector['country_code']==company.country_code)].sample()\n",
    "    else:     \n",
    "        return company_sector[(company_sector['total_funding_size']==size)& (company_sector['funding_total_usd'] > 100000) & (company_sector['status'] != 'closed')].sample()"
   ]
  },
  {
   "cell_type": "code",
   "execution_count": 31,
   "metadata": {},
   "outputs": [],
   "source": [
    "def competitor_info(company):\n",
    "    print(f\"Company name: {company.name.item()}\")\n",
    "    print(f\"Total money raised: ${format(company.funding_total_usd.item(),',.2f')}\")\n",
    "    print(f\"Total rounds: {company.funding_rounds.item()}\")\n",
    "    print(f\"Webpage: {company.homepage_url.item()}\")\n",
    "    print(f\"Country: {company.country_code.item()}\")\n",
    "    print(f\"Status: {company.status.item()}\")\n",
    "    print(f\"Founded in: {company.founded_at.item()}\")\n",
    "    "
   ]
  },
  {
   "cell_type": "code",
   "execution_count": 36,
   "metadata": {},
   "outputs": [],
   "source": [
    "def startup(name):\n",
    "    company = companies[companies['name'] == name]\n",
    "    #display(Image(url=company.profile_image_url))\n",
    "    \n",
    "    try:\n",
    "        print(f\"Company name: {company.name.item()}\")\n",
    "        print(f\"Total money raised: ${format(company.funding_total_usd.item(),',.2f')}\")\n",
    "        print(f\"Total rounds: {company.funding_rounds.item()}\")\n",
    "        print(f\"Status: {company.status.item()}\")\n",
    "   \n",
    "    # Find competitors\n",
    "        print('\\n')\n",
    "        print(f\"Competitors similar to {company.name.item()}:\")\n",
    "        print('\\n')\n",
    "        competitor_info(find_companies_by_size('small'))\n",
    "        print('\\n')      \n",
    "        competitor_info(find_companies_by_size('medium'))\n",
    "        print('\\n')     \n",
    "        competitor_info(find_companies_by_size('big'))\n",
    "    except: \n",
    "        print(f\"We couldn't find information about {name} in Crunchbase\")\n",
    "    # Google search\n",
    "    try:\n",
    "        most_warnings(find_webs(name))\n",
    "    except:\n",
    "        print(f\"We haven't found anything worring about {name} on Google in english. Nice!\")\n",
    "    \n",
    "    "
   ]
  },
  {
   "cell_type": "code",
   "execution_count": 33,
   "metadata": {},
   "outputs": [
    {
     "name": "stdout",
     "output_type": "stream",
     "text": [
      "Company name: Apple\n",
      "Total money raised: $250,000.00\n",
      "Total rounds: 1\n",
      "Status: ipo\n",
      "\n",
      "\n",
      "Competitors similar to Apple:\n",
      "\n",
      "\n",
      "Company name: AmigoCAT\n",
      "Total money raised: $129,679.00\n",
      "Total rounds: 1\n",
      "Webpage: http://www.amigocat.com/\n",
      "Country: FRA\n",
      "Status: operating\n",
      "Founded in: 2013-01-01\n",
      "\n",
      "\n",
      "Company name: SpecialNeedsWare\n",
      "Total money raised: $3,000,000.00\n",
      "Total rounds: 1\n",
      "Webpage: http://specialneedsware.com\n",
      "Country: USA\n",
      "Status: operating\n",
      "Founded in: 2011-01-01\n",
      "\n",
      "\n",
      "Company name: Palo Alto Networks\n",
      "Total money raised: $329,000,000.00\n",
      "Total rounds: 5\n",
      "Webpage: http://www.paloaltonetworks.com\n",
      "Country: USA\n",
      "Status: ipo\n",
      "Founded in: 2005-01-01\n",
      "We couldn't find info about Apple on google in english\n"
     ]
    }
   ],
   "source": [
    "startup(name)"
   ]
  },
  {
   "cell_type": "markdown",
   "metadata": {},
   "source": [
    "### To improve\n",
    "> Message if cannot find info (NO)\n",
    "\n",
    "> Predict growth of market (NO)\n",
    "\n",
    "> Suggestions (Difflib) (founder)\n",
    "\n",
    "> Twitter feed with stats (NO)\n",
    "\n",
    "> Sho\n"
   ]
  },
  {
   "cell_type": "code",
   "execution_count": 34,
   "metadata": {},
   "outputs": [
    {
     "data": {
      "text/plain": [
       "3"
      ]
     },
     "execution_count": 34,
     "metadata": {},
     "output_type": "execute_result"
    }
   ],
   "source": [
    "tring = ['bla', 'bla', 'bla' ,'no' ,'no' ,'no' ,'si', 'que', 'como' ,'cosa']\n",
    "FreqDist(tring)['bla'] "
   ]
  },
  {
   "cell_type": "code",
   "execution_count": null,
   "metadata": {},
   "outputs": [],
   "source": []
  }
 ],
 "metadata": {
  "kernelspec": {
   "display_name": "Python 3",
   "language": "python",
   "name": "python3"
  },
  "language_info": {
   "codemirror_mode": {
    "name": "ipython",
    "version": 3
   },
   "file_extension": ".py",
   "mimetype": "text/x-python",
   "name": "python",
   "nbconvert_exporter": "python",
   "pygments_lexer": "ipython3",
   "version": "3.7.2"
  }
 },
 "nbformat": 4,
 "nbformat_minor": 2
}
