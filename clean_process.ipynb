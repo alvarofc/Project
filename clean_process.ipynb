{
 "cells": [
  {
   "cell_type": "code",
   "execution_count": null,
   "metadata": {},
   "outputs": [],
   "source": [
    "# Libraries\n",
    "import numpy as np\n",
    "import pandas as pd\n",
    "import requests\n",
    "import matplotlib.pyplot as plt\n",
    "import seaborn as sns\n",
    "import sqlalchemy as sql \n",
    "from IPython.display import Image, display\n",
    "from bs4 import BeautifulSoup as bs\n",
    "import requests\n",
    "from difflib import get_close_matches\n",
    "import json\n",
    "# Twitter sentiment analysis\n",
    "import tweepy\n",
    "from textblob import TextBlob\n",
    "# News API\n",
    "import newsapi\n",
    "from newsapi import NewsApiClient"
   ]
  },
  {
   "cell_type": "code",
   "execution_count": 52,
   "metadata": {},
   "outputs": [],
   "source": [
    "newsapi = NewsApiClient(api_key='f4b7461debe141aaa97906aaa15774e0')"
   ]
  },
  {
   "cell_type": "code",
   "execution_count": 77,
   "metadata": {},
   "outputs": [],
   "source": [
    "news_sources = 'the-verge,buzzfeed,engadget,hacker-news,mashable,reddit-r-all,wired,techcrunch'"
   ]
  },
  {
   "cell_type": "code",
   "execution_count": 75,
   "metadata": {},
   "outputs": [],
   "source": [
    "news = newsapi.get_everything(q=name,sources=news_sources,language='en')"
   ]
  },
  {
   "cell_type": "code",
   "execution_count": 95,
   "metadata": {},
   "outputs": [
    {
     "data": {
      "text/plain": [
       "'Transportation Weekly: Uber’s spending habits, Tesla Model Y, scooters and AVs in Austin'"
      ]
     },
     "execution_count": 95,
     "metadata": {},
     "output_type": "execute_result"
    }
   ],
   "source": [
    "top_headlines['articles'][5]['title']"
   ]
  },
  {
   "cell_type": "code",
   "execution_count": null,
   "metadata": {},
   "outputs": [],
   "source": [
    "# Twitter API\n",
    "consumer_key = 'z7JowVKfk7O7e91kqcAXTHvWm'\n",
    "consumer_key_secret = '8KkTo5G3NhaX2gLIF3MMIl5Kb2U3N21kBrmb7pAEIMXBLRHDjo'\n",
    "access_token = '266094721-7wiXyVFTvA5Zdsj5sNFiR5w2wokjROsT2bNrkb2w'\n",
    "access_token_secret = 'huhhS6OCprQpyz6KDm5CQbXvymERJNP6wesztk0cmfn7m'"
   ]
  },
  {
   "cell_type": "code",
   "execution_count": null,
   "metadata": {},
   "outputs": [],
   "source": [
    "auth = tweepy.OAuthHandler(consumer_key, consumer_key_secret)\n",
    "auth.set_access_token(access_token, access_token_secret)\n",
    "api = tweepy.API(auth)"
   ]
  },
  {
   "cell_type": "code",
   "execution_count": 4,
   "metadata": {},
   "outputs": [],
   "source": [
    "# Connect to database\n",
    "from sqlalchemy import create_engine\n",
    "driver = 'mysql+pymysql:'\n",
    "user = 'alvaro'\n",
    "password = 'stalvaro19962013'\n",
    "ip = '35.246.28.129'\n",
    "database = 'data_crunch'\n",
    "connection_string = f'{driver}//{user}:{password}@{ip}/{database}?charset=utf8'\n",
    "engine = create_engine(connection_string)"
   ]
  },
  {
   "cell_type": "code",
   "execution_count": 5,
   "metadata": {},
   "outputs": [],
   "source": [
    "# Get data from database\n",
    "companies = pd.read_sql_table(table_name='companies15', con=connection_string)\n",
    "investments = pd.read_sql_table(table_name='investments15', con=connection_string)\n",
    "people = pd.read_sql_table(table_name='people', con=connection_string)\n",
    "rounds = pd.read_sql_table(table_name='rounds15', con=connection_string)"
   ]
  },
  {
   "cell_type": "code",
   "execution_count": 9,
   "metadata": {},
   "outputs": [],
   "source": [
    "investments = investments.dropna(subset=['raised_amount_usd', 'company_category_list'])\n",
    "sector_list0 = []\n",
    "sector_list = []\n",
    "for item in investments['company_category_list']:\n",
    "    if ',' in item:\n",
    "         sector_list0.append(item.split(sep= ', '))\n",
    "    else:\n",
    "        sector_list0.append(item)\n",
    "for i in sector_list0:\n",
    "    if type(i) == list:\n",
    "        for sec in i:\n",
    "            sector_list.append(sec)\n",
    "        \n",
    "    else:\n",
    "        sector_list.append(i)"
   ]
  },
  {
   "cell_type": "code",
   "execution_count": 10,
   "metadata": {},
   "outputs": [],
   "source": [
    "companies_list = []\n",
    "for i in companies.name:\n",
    "    companies_list.append(i)\n"
   ]
  },
  {
   "cell_type": "markdown",
   "metadata": {},
   "source": [
    "## Getting info about the company from the user"
   ]
  },
  {
   "cell_type": "code",
   "execution_count": 11,
   "metadata": {},
   "outputs": [],
   "source": [
    "def retrieve_name(my_name):\n",
    "    \n",
    "    if my_name in companies_list:\n",
    "        return my_name\n",
    "    elif len(get_close_matches(my_name, companies_list)) > 0:\n",
    "        action = input(\"Did you mean %s instead? [y or n]: \" % get_close_matches(my_name, companies_list)[0])\n",
    "        if (action == \"y\"):\n",
    "            return get_close_matches(my_name, companies_list)[0]\n",
    "        elif (action == \"n\"):\n",
    "            return my_name\n",
    "        else:\n",
    "            return(\"we don't understand you. Apologies.\")\n"
   ]
  },
  {
   "cell_type": "code",
   "execution_count": 12,
   "metadata": {},
   "outputs": [
    {
     "name": "stdout",
     "output_type": "stream",
     "text": [
      "Name of the company: Tesla Motors\n"
     ]
    }
   ],
   "source": [
    "name0 = input('Name of the company: ')\n",
    "name = retrieve_name(name0)"
   ]
  },
  {
   "cell_type": "code",
   "execution_count": 13,
   "metadata": {},
   "outputs": [],
   "source": [
    "def retrieve_sector(my_sector):\n",
    "    \n",
    "    if my_sector in sector_list:\n",
    "        return my_sector\n",
    "    elif len(get_close_matches(my_sector, sector_list)) > 0:\n",
    "        action = input(\"Did you mean %s instead? [y or n]: \" % get_close_matches(my_sector, sector_list) [0])\n",
    "        if (action == \"y\"):\n",
    "            return get_close_matches(my_sector, sector_list)[0]\n",
    "        elif (action == \"n\"):\n",
    "            return my_sector\n",
    "        else:\n",
    "            return(\"we don't understand you. Apologies.\")\n"
   ]
  },
  {
   "cell_type": "code",
   "execution_count": 39,
   "metadata": {},
   "outputs": [
    {
     "name": "stdout",
     "output_type": "stream",
     "text": [
      "In what sector is this company working?: Artificial Intelligence\n"
     ]
    }
   ],
   "source": [
    "sector0 = input('In what sector is this company working?: ')\n",
    "sector = retrieve_sector(sector0)\n"
   ]
  },
  {
   "cell_type": "code",
   "execution_count": 15,
   "metadata": {},
   "outputs": [
    {
     "name": "stdout",
     "output_type": "stream",
     "text": [
      "What is the name of the founder?: Elon Musk\n"
     ]
    }
   ],
   "source": [
    "founder = input('What is the name of the founder?: ')"
   ]
  },
  {
   "cell_type": "markdown",
   "metadata": {},
   "source": [
    "## Looking for info in Crunchbase"
   ]
  },
  {
   "cell_type": "code",
   "execution_count": 37,
   "metadata": {},
   "outputs": [],
   "source": [
    "def category(sector):\n",
    "    # Gather tweets\n",
    "    public_tweets = api.search(sector)\n",
    "    # Prepare the data for the sector\n",
    "    sector_investments = investments[investments['company_category_list'].str.contains(sector)].drop('index',axis=1)\n",
    "    sector_investments.reset_index(drop=True)\n",
    "    sector_investments['funded_at'] = pd.to_datetime(sector_investments['funded_at'])\n",
    "    sector_investments['Year'] = sector_investments['funded_at'].apply(lambda x: x.year )\n",
    "    sector_investments['Month'] = sector_investments['funded_at'].apply(lambda x: x.month )\n",
    "    sector_investments['Day'] = sector_investments['funded_at'].apply(lambda x: x.day )\n",
    "    # Sentiment analysis\n",
    "    sentiment_list = []\n",
    "    for tweet in public_tweets:\n",
    "        analysis = TextBlob(tweet.text)\n",
    "        sentiment_list.append(analysis.sentiment[0])\n",
    "    if sum(sentiment_list)>0:\n",
    "         sent = 'Positive'\n",
    "    elif sum(sentiment_list)<0:\n",
    "        sent = 'Negative'\n",
    "    else:\n",
    "        sent = 'Neutral'\n",
    "    print(f\"The sentiment about {sector} industry in Twitter is {sent}\")\n",
    "    # create plot\n",
    "    sector_year = sector_investments.groupby(['Year']).sum()[-10:]\n",
    "    movement = ((sector_year.raised_amount_usd.iloc[len(sector_year)-1] - sector_year.raised_amount_usd.iloc[0])/sector_year.raised_amount_usd.iloc[0]*100)\n",
    "    if sector_year.raised_amount_usd.iloc[0] + sector_year.raised_amount_usd.iloc[len(sector_year)-1] >= 0:\n",
    "        in_dec = 'increased'\n",
    "        grow = 'growing'\n",
    "    else:\n",
    "        in_dec = 'decreased'\n",
    "        grow = 'falling'\n",
    "        movement = movement[1:]\n",
    "    sns.lineplot(x=sector_year.index, y=sector_year.raised_amount_usd).set_title(f'Evolution of the amount invested in {sector}')\n",
    "    peak_year =  sector_year.index[sector_year['raised_amount_usd']== max(sector_year.raised_amount_usd)].to_list()\n",
    "    peak_amount = max(sector_year.raised_amount_usd)\n",
    "    low_amount = min(sector_year.raised_amount_usd)\n",
    "    low_year = sector_year.index[sector_year['raised_amount_usd']== min(sector_year.raised_amount_usd)].to_list()\n",
    "    print(f\"\"\"The amount of money invested in {sector} has {in_dec} by {round(abs(movement),2)}% in the last {len(sector_year)} years, \n",
    "it is expected to keep {grow} by X the next  X years. \n",
    "It peaked in year {peak_year} with ${round(peak_amount, 2)} invested and its lowest point was in year {low_year} with ${round(low_amount,2)} invested.\"\"\")\n",
    "    plt.ylabel('Raised amount in USD')\n",
    "    plt.show()\n",
    "    investments_per_year = sector_investments.groupby(['Year']).count()\n",
    "    sns.lineplot(x=investments_per_year.index[-10:], y=investments_per_year.Day[-10:]).set_title(f'Evolution of the number of investment in {sector}')\n",
    "    plt.ylabel('Number of investments')\n",
    "    print(\"\"\"Plot explanaition average investment\n",
    "    \n",
    "    \"\"\")\n",
    "    plt.show()"
   ]
  },
  {
   "cell_type": "code",
   "execution_count": 40,
   "metadata": {},
   "outputs": [
    {
     "name": "stdout",
     "output_type": "stream",
     "text": [
      "The sentiment about Artificial Intelligence in Twitter is Positive\n",
      "The amount of money invested in Artificial Intelligence has increased by 87057.85% in the last 10 years, \n",
      "it is expected to keep growing by X the next  X years. \n",
      "It peaked in year [2014] with $759145340.15 invested and its lowest point was in year [2008] with $150000.0 invested.\n"
     ]
    },
    {
     "data": {
      "image/png": "[encoded data removed]",
      "text/plain": [
       "<Figure size 432x288 with 1 Axes>"
      ]
     },
     "metadata": {
      "needs_background": "light"
     },
     "output_type": "display_data"
    },
    {
     "name": "stdout",
     "output_type": "stream",
     "text": [
      "Plot explanaition average investment\n",
      "    \n",
      "    \n"
     ]
    },
    {
     "data": {
      "image/png": "[encoded data removed]",
      "text/plain": [
       "<Figure size 432x288 with 1 Axes>"
      ]
     },
     "metadata": {
      "needs_background": "light"
     },
     "output_type": "display_data"
    }
   ],
   "source": [
    "category(sector)"
   ]
  },
  {
   "cell_type": "code",
   "execution_count": 78,
   "metadata": {},
   "outputs": [],
   "source": [
    "def founders(founder):\n",
    "    full_name = founder.split()\n",
    "    public_tweets = api.search(founder)\n",
    "    for i in range(len(people)):\n",
    "        if people.first_name.iloc[i] == full_name[0] and people.last_name.iloc[i]==full_name[1]:\n",
    "            display(Image(url=people.profile_image_url[i]))\n",
    "            print(f'We found this information about {founder}:')\n",
    "            print(f\"Founder's name: {people.first_name[i]} {people.last_name[i]} \")\n",
    "            print(f\"Title: {people.title[i]}\")\n",
    "            print(f\"Organization: {people.organization[i]}\")\n",
    "            if people.organization[i] != name:\n",
    "                print('This person might not be working full time')\n",
    "            print(f\"Location: {people.location_city[i]}, {people.location_region[i]}, {people.location_country_code[i]}\")\n",
    "            if people.twitter_url[i] != None:\n",
    "                print(f\"Twitter URL: {people.twitter_url[i]}\")\n",
    "            if people.linkedin_url[i] != None:\n",
    "                print(f\"Linkedin URL: {people.linkedin_url[i]}\")\n",
    "            if people.facebook_url[i] != None:\n",
    "                print(f\"Facebook URL: {people.facebook_url[i]}\")\n",
    "    # Sentiment analysis\n",
    "    sentiment_list = []\n",
    "    for tweet in public_tweets:\n",
    "        analysis = TextBlob(tweet.text)\n",
    "        sentiment_list.append(analysis.sentiment[0])\n",
    "    if sum(sentiment_list)>0:\n",
    "         sent = 'Positive'\n",
    "    elif sum(sentiment_list)<0:\n",
    "        sent = 'Negative'\n",
    "    else:\n",
    "        sent = 'Neutral'\n",
    "    print(f\"The sentiment about {founder} in Twitter is {sent}\")\n",
    "            \n",
    "        "
   ]
  },
  {
   "cell_type": "code",
   "execution_count": 79,
   "metadata": {},
   "outputs": [
    {
     "data": {
      "text/html": [
       "<img src=\"https://crunchbase-production-res.cloudinary.com/image/upload/c_lpad,h_120,w_120,f_jpg/hevy6dvk7gien0rmg37n\"/>"
      ],
      "text/plain": [
       "<IPython.core.display.Image object>"
      ]
     },
     "metadata": {},
     "output_type": "execute_result"
    },
    {
     "name": "stdout",
     "output_type": "stream",
     "text": [
      "We found this information about Elon Musk:\n",
      "Founder's name: Elon Musk \n",
      "Title: Product Architect & CEO at Tesla\n",
      "Organization: Tesla\n",
      "This person might not be working full time\n",
      "Location: Los Angeles, California, US\n",
      "Twitter URL: http://twitter.com/elonmusk\n",
      "Linkedin URL: https://www.linkedin.com/company/elon-musk-news/\n",
      "Facebook URL: https://www.facebook.com/ermusk\n",
      "The sentiment about Elon Musk in Twitter is Negative\n"
     ]
    }
   ],
   "source": [
    "founders(founder)"
   ]
  },
  {
   "cell_type": "code",
   "execution_count": null,
   "metadata": {},
   "outputs": [],
   "source": [
    "for i in range(len(companies)):\n",
    "    if name in companies.name[i]:\n",
    "        print(companies.iloc[i])"
   ]
  },
  {
   "cell_type": "code",
   "execution_count": 20,
   "metadata": {},
   "outputs": [],
   "source": [
    "def startup(name):\n",
    "    company = companies[companies['name'] == name]\n",
    "    #display(Image(url=company.profile_image_url))\n",
    "    print(f\"Company name: {company.name.item()}\")\n",
    "    print(f\"Total money raised: ${round(company.funding_total_usd.item(),2)}\")\n",
    "    print(f\"Total rounds: {company.funding_rounds.item()}\")\n",
    "    # print(f\"Location: {people.location_city[i]}, {people.location_region[i]}, {people.location_country_code[i]}\")\n",
    "    # return Image(url=people.profile_image_url[i])"
   ]
  },
  {
   "cell_type": "code",
   "execution_count": 21,
   "metadata": {},
   "outputs": [
    {
     "name": "stdout",
     "output_type": "stream",
     "text": [
      "Company name: Tesla Motors\n",
      "Total money raised: $823000000.0\n",
      "Total rounds: 11\n"
     ]
    }
   ],
   "source": [
    "startup(name)"
   ]
  },
  {
   "cell_type": "code",
   "execution_count": null,
   "metadata": {},
   "outputs": [],
   "source": [
    "people.head()"
   ]
  },
  {
   "cell_type": "code",
   "execution_count": null,
   "metadata": {},
   "outputs": [],
   "source": [
    "companies.status.value_counts()"
   ]
  },
  {
   "cell_type": "code",
   "execution_count": null,
   "metadata": {},
   "outputs": [],
   "source": [
    "company"
   ]
  },
  {
   "cell_type": "code",
   "execution_count": null,
   "metadata": {},
   "outputs": [],
   "source": [
    "\n",
    "from PIL import Image, ImageOps\n",
    "import requests\n",
    "from io import BytesIO\n",
    "## EVAAAAAA\n",
    "\n",
    "def founders(founder):\n",
    "    full_name = founder.split()\n",
    "    for i in range(len(people)):\n",
    "        if people.first_name.iloc[i] == full_name[0] and people.last_name.iloc[i]==full_name[1]:\n",
    "            response = requests.get(people.profile_image_url[i])\n",
    "            im = Image.open(BytesIO(response.content))\n",
    "            mask = Image.open('mask.jpg').convert('L')\n",
    "            output = ImageOps.fit(im, mask.size, centering=(0.5,0.5))\n",
    "            output.putalpha(mask)\n",
    "            print(f\"Founder's name: {people.first_name[i]} {people.last_name[i]}\")\n",
    "            print(f\"Title: {people.title[i]}\")\n",
    "            if people.organization[i] != name:\n",
    "                print('This person might not be working full time')\n",
    "            print(f\"Location: {people.location_city[i]}, {people.location_region[i]}, {people.location_country_code[i]}\")\n",
    "            \n",
    "            "
   ]
  },
  {
   "cell_type": "code",
   "execution_count": null,
   "metadata": {},
   "outputs": [],
   "source": [
    "founders(founder)"
   ]
  },
  {
   "cell_type": "markdown",
   "metadata": {},
   "source": [
    "### To improve\n",
    "> Message if cannot find info\n",
    "\n",
    "> Suggestions (Difflib)\n",
    "\n",
    "> Twitter feed with stats\n",
    "\n",
    "> News API number of articles and sentiment\n"
   ]
  },
  {
   "cell_type": "code",
   "execution_count": null,
   "metadata": {},
   "outputs": [],
   "source": []
  }
 ],
 "metadata": {
  "kernelspec": {
   "display_name": "Python 3",
   "language": "python",
   "name": "python3"
  },
  "language_info": {
   "codemirror_mode": {
    "name": "ipython",
    "version": 3
   },
   "file_extension": ".py",
   "mimetype": "text/x-python",
   "name": "python",
   "nbconvert_exporter": "python",
   "pygments_lexer": "ipython3",
   "version": "3.7.2"
  }
 },
 "nbformat": 4,
 "nbformat_minor": 2
}
