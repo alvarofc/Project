{
 "cells": [
  {
   "cell_type": "code",
   "execution_count": 1,
   "metadata": {},
   "outputs": [],
   "source": [
    "import numpy as np\n",
    "import pandas as pd\n",
    "import requests\n",
    "import matplotlib.pyplot as plt\n",
    "import seaborn as sns\n",
    "import sqlalchemy as sql "
   ]
  },
  {
   "cell_type": "code",
   "execution_count": 6,
   "metadata": {},
   "outputs": [],
   "source": [
    "from sqlalchemy import create_engine\n",
    "driver = 'mysql+pymysql:'\n",
    "user = 'alvaro'\n",
    "password = 'stalvaro19962013'\n",
    "ip = '35.246.28.129'\n",
    "database = 'data_crunch'\n",
    "connection_string = f'{driver}//{user}:{password}@{ip}/{database}?charset=utf8'\n",
    "engine = create_engine(connection_string)"
   ]
  },
  {
   "cell_type": "code",
   "execution_count": 8,
   "metadata": {},
   "outputs": [],
   "source": [
    "companies = pd.read_sql_table(table_name='companies15', con=connection_string)\n",
    "investments = pd.read_sql_table(table_name='investments15', con=connection_string)\n",
    "people = pd.read_sql_table(table_name='people', con=connection_string)\n",
    "rounds = pd.read_sql_table(table_name='rounds15', con=connection_string)"
   ]
  },
  {
   "cell_type": "markdown",
   "metadata": {},
   "source": [
    "## Getting info from the company"
   ]
  },
  {
   "cell_type": "code",
   "execution_count": 2,
   "metadata": {},
   "outputs": [
    {
     "name": "stdout",
     "output_type": "stream",
     "text": [
      "Name of the company: Facebook\n"
     ]
    }
   ],
   "source": [
    "name = input('Name of the company: ')"
   ]
  },
  {
   "cell_type": "code",
   "execution_count": 3,
   "metadata": {},
   "outputs": [
    {
     "name": "stdout",
     "output_type": "stream",
     "text": [
      "In what sector is this company working: Social Media\n"
     ]
    }
   ],
   "source": [
    "sector = input('In what sector is this company working: ')"
   ]
  },
  {
   "cell_type": "code",
   "execution_count": 4,
   "metadata": {},
   "outputs": [
    {
     "name": "stdout",
     "output_type": "stream",
     "text": [
      "What is the name of the founderMark Zuckerberg\n"
     ]
    }
   ],
   "source": [
    "founder = input('What is the name of the founder: ')"
   ]
  },
  {
   "cell_type": "markdown",
   "metadata": {},
   "source": [
    "## Looking for info on Crunchbase"
   ]
  },
  {
   "cell_type": "code",
   "execution_count": 17,
   "metadata": {},
   "outputs": [],
   "source": [
    " "
   ]
  },
  {
   "cell_type": "code",
   "execution_count": 40,
   "metadata": {},
   "outputs": [],
   "source": [
    "def category(sector):    \n",
    "    # Prepare the data for the sector\n",
    "    sector_investments = investments[investments['company_category_list']==sector].drop('index',axis=1)\n",
    "    sector_investments.reset_index(drop=True)\n",
    "    sector_investments['funded_at'] = pd.to_datetime(sector_investments['funded_at'])\n",
    "    sector_investments['Year'] = sector_investments['funded_at'].apply(lambda x: x.year )\n",
    "    sector_investments['Month'] = sector_investments['funded_at'].apply(lambda x: x.month )\n",
    "    sector_investments['Day'] = sector_investments['funded_at'].apply(lambda x: x.day )\n",
    "    # create plot\n",
    "    sector_year = sector_investments.groupby(['Year']).sum()[-10:]\n",
    "    return sns.lineplot(x=sector_year.index, y=sector_year.raised_amount_usd)"
   ]
  },
  {
   "cell_type": "code",
   "execution_count": 41,
   "metadata": {},
   "outputs": [
    {
     "data": {
      "text/plain": [
       "<matplotlib.axes._subplots.AxesSubplot at 0x17aa9e860>"
      ]
     },
     "execution_count": 41,
     "metadata": {},
     "output_type": "execute_result"
    },
    {
     "data": {
      "image/png": "[encoded data removed]",
      "text/plain": [
       "<Figure size 432x288 with 1 Axes>"
      ]
     },
     "metadata": {
      "needs_background": "light"
     },
     "output_type": "display_data"
    }
   ],
   "source": [
    "category(sector)"
   ]
  },
  {
   "cell_type": "code",
   "execution_count": null,
   "metadata": {},
   "outputs": [],
   "source": []
  },
  {
   "cell_type": "code",
   "execution_count": null,
   "metadata": {},
   "outputs": [],
   "source": []
  }
 ],
 "metadata": {
  "kernelspec": {
   "display_name": "Python 3",
   "language": "python",
   "name": "python3"
  },
  "language_info": {
   "codemirror_mode": {
    "name": "ipython",
    "version": 3
   },
   "file_extension": ".py",
   "mimetype": "text/x-python",
   "name": "python",
   "nbconvert_exporter": "python",
   "pygments_lexer": "ipython3",
   "version": "3.7.2"
  }
 },
 "nbformat": 4,
 "nbformat_minor": 2
}
